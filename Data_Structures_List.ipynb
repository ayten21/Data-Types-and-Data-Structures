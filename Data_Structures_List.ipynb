{
  "cells": [
    {
      "cell_type": "markdown",
      "metadata": {
        "id": "view-in-github",
        "colab_type": "text"
      },
      "source": [
        "<a href=\"https://colab.research.google.com/github/ayten21/Explore-Python/blob/main/Data_Structure_List.ipynb\" target=\"_parent\"><img src=\"https://colab.research.google.com/assets/colab-badge.svg\" alt=\"Open In Colab\"/></a>"
      ]
    },
    {
      "cell_type": "markdown",
      "metadata": {
        "id": "-7_PsIYf1WtS"
      },
      "source": [
        "---\n",
        "---\n",
        "\n",
        "<center><h1> DATA STRUCTURES - LIST </h1></center>\n",
        "\n",
        "\n",
        "\n",
        "---"
      ]
    },
    {
      "cell_type": "markdown",
      "metadata": {
        "id": "x6Jz8e2o1Wts"
      },
      "source": [
        "***Creating a list***\n",
        "\n",
        "---"
      ]
    },
    {
      "cell_type": "markdown",
      "source": [
        "List is a data structure that is:\n",
        "\n",
        "*  Ordered - it keeps the order you wrote and gives index to it\n",
        "*  It is possible to keep each data type together as it is\n",
        "*  Repetition of elements is possible\n",
        "\n",
        "\n",
        "\n",
        "\n",
        "\n",
        "\n",
        "\n"
      ],
      "metadata": {
        "id": "DhVjfskRwNtb"
      }
    },
    {
      "cell_type": "code",
      "execution_count": 12,
      "metadata": {
        "id": "43LmVP691Wtv"
      },
      "outputs": [],
      "source": [
        "#creating a list\n",
        "my_list =[1, 2, 3, 4, 5, 6, 7, 8, 9, 10]"
      ]
    },
    {
      "cell_type": "code",
      "execution_count": 13,
      "metadata": {
        "colab": {
          "base_uri": "https://localhost:8080/"
        },
        "id": "_M8SLcTl1Wtx",
        "outputId": "964fe092-ed67-48c8-827e-536f0131981a"
      },
      "outputs": [
        {
          "output_type": "execute_result",
          "data": {
            "text/plain": [
              "[1, 2, 3, 4, 5, 6, 7, 8, 9, 10]"
            ]
          },
          "metadata": {},
          "execution_count": 13
        }
      ],
      "source": [
        "my_list"
      ]
    },
    {
      "cell_type": "markdown",
      "metadata": {
        "id": "mNWr1XkD1Wtz"
      },
      "source": [
        "***Access elements with index***\n",
        "\n",
        "![](images/table.png)\n",
        "\n",
        "---"
      ]
    },
    {
      "cell_type": "code",
      "source": [
        "#indexing always start with 0\n",
        "my_list[0]"
      ],
      "metadata": {
        "colab": {
          "base_uri": "https://localhost:8080/"
        },
        "id": "orcjclUvxLB1",
        "outputId": "fcc62bf7-0d9d-4b05-9717-36eda0afa07c"
      },
      "execution_count": 14,
      "outputs": [
        {
          "output_type": "execute_result",
          "data": {
            "text/plain": [
              "1"
            ]
          },
          "metadata": {},
          "execution_count": 14
        }
      ]
    },
    {
      "cell_type": "code",
      "execution_count": 15,
      "metadata": {
        "colab": {
          "base_uri": "https://localhost:8080/"
        },
        "id": "-fJXXLV71Wt1",
        "outputId": "d76f8313-68c3-4b6f-d725-b64b1d834374"
      },
      "outputs": [
        {
          "output_type": "execute_result",
          "data": {
            "text/plain": [
              "2"
            ]
          },
          "metadata": {},
          "execution_count": 15
        }
      ],
      "source": [
        "# positive index - second element from the left\n",
        "my_list[1]"
      ]
    },
    {
      "cell_type": "code",
      "execution_count": 16,
      "metadata": {
        "colab": {
          "base_uri": "https://localhost:8080/"
        },
        "id": "RHJXoAfx1Wt2",
        "outputId": "d31c27ed-55ca-42ba-f67b-06aa34a45cbe"
      },
      "outputs": [
        {
          "output_type": "execute_result",
          "data": {
            "text/plain": [
              "9"
            ]
          },
          "metadata": {},
          "execution_count": 16
        }
      ],
      "source": [
        "# negative index - second last element in the list\n",
        "my_list[-2]"
      ]
    },
    {
      "cell_type": "markdown",
      "metadata": {
        "id": "wTcr29WQ1Wt4"
      },
      "source": [
        "***List Slicing***\n",
        "\n",
        "---"
      ]
    },
    {
      "cell_type": "code",
      "execution_count": 17,
      "metadata": {
        "colab": {
          "base_uri": "https://localhost:8080/"
        },
        "id": "H8pdvjJc1Wt5",
        "outputId": "db2f4764-9a20-4029-c216-19caf877877c"
      },
      "outputs": [
        {
          "output_type": "execute_result",
          "data": {
            "text/plain": [
              "[1, 2, 3, 4, 5, 6, 7, 8, 9, 10]"
            ]
          },
          "metadata": {},
          "execution_count": 17
        }
      ],
      "source": [
        "# get all the elements in the list using colon only\n",
        "my_list[:]"
      ]
    },
    {
      "cell_type": "code",
      "execution_count": 18,
      "metadata": {
        "colab": {
          "base_uri": "https://localhost:8080/"
        },
        "id": "ZtUIhmtD1Wt8",
        "outputId": "bb576d9c-e47b-4b46-e4b7-ecb0fdac6edd"
      },
      "outputs": [
        {
          "output_type": "execute_result",
          "data": {
            "text/plain": [
              "[1, 2, 3, 4, 5, 6, 7, 8, 9, 10]"
            ]
          },
          "metadata": {},
          "execution_count": 18
        }
      ],
      "source": [
        "# same result using the double colon also\n",
        "my_list[::]"
      ]
    },
    {
      "cell_type": "code",
      "execution_count": 19,
      "metadata": {
        "colab": {
          "base_uri": "https://localhost:8080/"
        },
        "id": "CWZ6lt3Q1Wt-",
        "outputId": "c2e92c66-487d-49fe-fdd7-7e847479f790"
      },
      "outputs": [
        {
          "output_type": "execute_result",
          "data": {
            "text/plain": [
              "[1, 2, 3, 4, 5, 6, 7, 8, 9, 10]"
            ]
          },
          "metadata": {},
          "execution_count": 19
        }
      ],
      "source": [
        "# after second colon we define the step\n",
        "my_list[::1]"
      ]
    },
    {
      "cell_type": "code",
      "execution_count": 20,
      "metadata": {
        "colab": {
          "base_uri": "https://localhost:8080/"
        },
        "id": "P8nSmVfE1Wt_",
        "outputId": "8d8cfca2-5974-4eca-9da1-4a0e739906a0"
      },
      "outputs": [
        {
          "output_type": "execute_result",
          "data": {
            "text/plain": [
              "[1, 3, 5, 7, 9]"
            ]
          },
          "metadata": {},
          "execution_count": 20
        }
      ],
      "source": [
        "# slice list with step 2\n",
        "my_list[::2]"
      ]
    },
    {
      "cell_type": "code",
      "execution_count": 21,
      "metadata": {
        "colab": {
          "base_uri": "https://localhost:8080/"
        },
        "id": "dG3Ph-OV1WuA",
        "outputId": "5ec381f7-99b9-4bda-d9c6-d03ac7f3ec19"
      },
      "outputs": [
        {
          "output_type": "execute_result",
          "data": {
            "text/plain": [
              "[3, 4, 5]"
            ]
          },
          "metadata": {},
          "execution_count": 21
        }
      ],
      "source": [
        "# list from index 2 upto 5 with step 1\n",
        "my_list[2:5:1]"
      ]
    },
    {
      "cell_type": "code",
      "execution_count": 22,
      "metadata": {
        "colab": {
          "base_uri": "https://localhost:8080/"
        },
        "id": "fAAnGT6S1WuC",
        "outputId": "234d8874-171b-4313-afd3-b63cb406b8cd"
      },
      "outputs": [
        {
          "output_type": "execute_result",
          "data": {
            "text/plain": [
              "[3, 5]"
            ]
          },
          "metadata": {},
          "execution_count": 22
        }
      ],
      "source": [
        "# list from index 2 upto 5 with step 2 \n",
        "my_list[2:5:2]"
      ]
    },
    {
      "cell_type": "code",
      "execution_count": 23,
      "metadata": {
        "colab": {
          "base_uri": "https://localhost:8080/"
        },
        "id": "1K1uTwzN1WuE",
        "outputId": "68e4c587-41b4-483f-d34b-0d6042e934f4"
      },
      "outputs": [
        {
          "output_type": "execute_result",
          "data": {
            "text/plain": [
              "[3, 4, 5, 6, 7, 8]"
            ]
          },
          "metadata": {},
          "execution_count": 23
        }
      ],
      "source": [
        "# list from index 3 to second last index\n",
        "my_list[2:-2]"
      ]
    },
    {
      "cell_type": "code",
      "execution_count": 24,
      "metadata": {
        "colab": {
          "base_uri": "https://localhost:8080/"
        },
        "id": "4Z2Lu-nN1WuF",
        "outputId": "5b867f59-87c0-493f-97d7-4e4628b89ecb"
      },
      "outputs": [
        {
          "output_type": "execute_result",
          "data": {
            "text/plain": [
              "[10, 9, 8, 7, 6, 5, 4, 3, 2, 1]"
            ]
          },
          "metadata": {},
          "execution_count": 24
        }
      ],
      "source": [
        "# reverse the list using step value as -1\n",
        "my_list[::-1]"
      ]
    },
    {
      "cell_type": "markdown",
      "metadata": {
        "id": "OhCbBaHu1WuG"
      },
      "source": [
        "***Append an element to the list.***\n",
        "\n",
        "---"
      ]
    },
    {
      "cell_type": "code",
      "execution_count": 25,
      "metadata": {
        "colab": {
          "base_uri": "https://localhost:8080/"
        },
        "id": "CCHOKDnB1WuK",
        "outputId": "543f4e8d-a4e5-4b4f-f086-959215c98265"
      },
      "outputs": [
        {
          "output_type": "execute_result",
          "data": {
            "text/plain": [
              "[1, 2, 3, 4, 5, 6, 7, 8, 9, 10]"
            ]
          },
          "metadata": {},
          "execution_count": 25
        }
      ],
      "source": [
        "my_list"
      ]
    },
    {
      "cell_type": "code",
      "execution_count": 26,
      "metadata": {
        "id": "tnf738KZ1WuN"
      },
      "outputs": [],
      "source": [
        "#append expects 1 element (one index) and adds it to the end of the list.\n",
        "my_list.append(3)"
      ]
    },
    {
      "cell_type": "code",
      "execution_count": 27,
      "metadata": {
        "colab": {
          "base_uri": "https://localhost:8080/"
        },
        "id": "M1KlKult1WuQ",
        "outputId": "e0d59018-0f65-499e-bc7b-f35c014abc24"
      },
      "outputs": [
        {
          "output_type": "execute_result",
          "data": {
            "text/plain": [
              "[1, 2, 3, 4, 5, 6, 7, 8, 9, 10, 3]"
            ]
          },
          "metadata": {},
          "execution_count": 27
        }
      ],
      "source": [
        "my_list"
      ]
    },
    {
      "cell_type": "code",
      "execution_count": 28,
      "metadata": {
        "colab": {
          "base_uri": "https://localhost:8080/"
        },
        "id": "1Cl5--hJ1WuR",
        "outputId": "3cdc4e81-bce2-4633-a2a1-f64821caae63"
      },
      "outputs": [
        {
          "output_type": "execute_result",
          "data": {
            "text/plain": [
              "[1, 2, 3, 4, 5, 6, 7, 8, 9, 10, 3, [1, 2]]"
            ]
          },
          "metadata": {},
          "execution_count": 28
        }
      ],
      "source": [
        "# let's try to append multiple elements in the list\n",
        "my_list.append([1,2])\n",
        "my_list"
      ]
    },
    {
      "cell_type": "markdown",
      "metadata": {
        "id": "Y824pUgA1WuT"
      },
      "source": [
        "You can see that it has created an nested list when used append method,as I mentioned above, it expects one index from you, no matter how many element you will give, all of them will go to the same index.\n",
        "You can add multiple elements to the multiple indexes by using extend function. \n",
        "\n",
        "---"
      ]
    },
    {
      "cell_type": "code",
      "execution_count": 29,
      "metadata": {
        "colab": {
          "base_uri": "https://localhost:8080/"
        },
        "id": "cSxsP_mS1WuU",
        "outputId": "e132a884-fb67-43d4-8ef3-f3058d96438b"
      },
      "outputs": [
        {
          "output_type": "execute_result",
          "data": {
            "text/plain": [
              "[1, 2, 3, 4, 5, 6, 7, 8, 9, 10, 3, [1, 2], 2, 2, 3, 4]"
            ]
          },
          "metadata": {},
          "execution_count": 29
        }
      ],
      "source": [
        "my_list.extend([2, 2, 3, 4])\n",
        "my_list"
      ]
    },
    {
      "cell_type": "markdown",
      "metadata": {
        "id": "8D-Thorq1WuV"
      },
      "source": [
        "***Search for an element in the List***\n",
        "\n",
        "---"
      ]
    },
    {
      "cell_type": "code",
      "execution_count": 30,
      "metadata": {
        "colab": {
          "base_uri": "https://localhost:8080/"
        },
        "id": "wNaasnJj1WuW",
        "outputId": "6e5bceeb-b791-4eae-a033-07ae3be8a9c6"
      },
      "outputs": [
        {
          "output_type": "execute_result",
          "data": {
            "text/plain": [
              "[1, 2, 3, 4, 5, 6, 7, 8, 9, 10, 3, [1, 2], 2, 2, 3, 4]"
            ]
          },
          "metadata": {},
          "execution_count": 30
        }
      ],
      "source": [
        "my_list"
      ]
    },
    {
      "cell_type": "code",
      "execution_count": 31,
      "metadata": {
        "colab": {
          "base_uri": "https://localhost:8080/"
        },
        "id": "d2WcUj6W1WuW",
        "outputId": "050439a3-b054-49b4-bf54-82f0906a0f17"
      },
      "outputs": [
        {
          "output_type": "execute_result",
          "data": {
            "text/plain": [
              "3"
            ]
          },
          "metadata": {},
          "execution_count": 31
        }
      ],
      "source": [
        "# find out the index of an element in the list if present\n",
        "my_list.index(4)"
      ]
    },
    {
      "cell_type": "code",
      "execution_count": 32,
      "metadata": {
        "colab": {
          "base_uri": "https://localhost:8080/"
        },
        "id": "UJez8uyZ1WuY",
        "outputId": "09daac72-9452-4bc1-bada-941f8446e726"
      },
      "outputs": [
        {
          "output_type": "execute_result",
          "data": {
            "text/plain": [
              "11"
            ]
          },
          "metadata": {},
          "execution_count": 32
        }
      ],
      "source": [
        "# index can also search nested objects\n",
        "my_list.index([1,2])"
      ]
    },
    {
      "cell_type": "markdown",
      "metadata": {
        "id": "JTIwaKSU1WuY"
      },
      "source": [
        "***Insert an element in the List***\n",
        "\n",
        "---"
      ]
    },
    {
      "cell_type": "code",
      "execution_count": 33,
      "metadata": {
        "colab": {
          "base_uri": "https://localhost:8080/"
        },
        "id": "09orfvOe1WuZ",
        "outputId": "a2845cb4-2227-4256-ac70-e453cfd2cb8c"
      },
      "outputs": [
        {
          "output_type": "execute_result",
          "data": {
            "text/plain": [
              "[1, 2, 3, 4, 5, 6, 7, 8, 9, 10, 3, [1, 2], 2, 2, 3, 4]"
            ]
          },
          "metadata": {},
          "execution_count": 33
        }
      ],
      "source": [
        "my_list"
      ]
    },
    {
      "cell_type": "code",
      "execution_count": 34,
      "metadata": {
        "id": "96XukpH21Wua"
      },
      "outputs": [],
      "source": [
        "#you can add an element to the specific index too:\n",
        "my_list.insert(1, 'w')"
      ]
    },
    {
      "cell_type": "code",
      "execution_count": 35,
      "metadata": {
        "colab": {
          "base_uri": "https://localhost:8080/"
        },
        "id": "1GOfQHld1Wud",
        "outputId": "a8335b5f-d261-4b45-de0d-e09f4682835a"
      },
      "outputs": [
        {
          "output_type": "execute_result",
          "data": {
            "text/plain": [
              "[1, 'w', 2, 3, 4, 5, 6, 7, 8, 9, 10, 3, [1, 2], 2, 2, 3, 4]"
            ]
          },
          "metadata": {},
          "execution_count": 35
        }
      ],
      "source": [
        "my_list"
      ]
    },
    {
      "cell_type": "code",
      "execution_count": 36,
      "metadata": {
        "id": "QXzkSmNl1Wud"
      },
      "outputs": [],
      "source": [
        "#here is how to add nested list to a particular index:\n",
        "my_list.insert(4,['explore','python'])"
      ]
    },
    {
      "cell_type": "code",
      "execution_count": 37,
      "metadata": {
        "colab": {
          "base_uri": "https://localhost:8080/"
        },
        "id": "AxZscfXd1Wue",
        "outputId": "4f8fa05a-464f-4a5c-96e1-88868226bb4c"
      },
      "outputs": [
        {
          "output_type": "execute_result",
          "data": {
            "text/plain": [
              "[1,\n",
              " 'w',\n",
              " 2,\n",
              " 3,\n",
              " ['explore', 'python'],\n",
              " 4,\n",
              " 5,\n",
              " 6,\n",
              " 7,\n",
              " 8,\n",
              " 9,\n",
              " 10,\n",
              " 3,\n",
              " [1, 2],\n",
              " 2,\n",
              " 2,\n",
              " 3,\n",
              " 4]"
            ]
          },
          "metadata": {},
          "execution_count": 37
        }
      ],
      "source": [
        "my_list"
      ]
    },
    {
      "cell_type": "markdown",
      "metadata": {
        "id": "prYoJwsW1Wuf"
      },
      "source": [
        "---\n",
        "\n",
        "***Check if the particular element is present in the list or not.***\n",
        "\n",
        "We will use `in` or `not in` to get the answers of these type of queries. These `in` and `not in` are also called as `membership operators.`\n",
        "\n",
        "---"
      ]
    },
    {
      "cell_type": "code",
      "execution_count": 38,
      "metadata": {
        "colab": {
          "base_uri": "https://localhost:8080/"
        },
        "id": "_JH9zumb1Wug",
        "outputId": "f7e6c74d-a901-4fa9-8e0e-17edf4e824fc"
      },
      "outputs": [
        {
          "output_type": "execute_result",
          "data": {
            "text/plain": [
              "False"
            ]
          },
          "metadata": {},
          "execution_count": 38
        }
      ],
      "source": [
        "90 in my_list"
      ]
    },
    {
      "cell_type": "code",
      "execution_count": 39,
      "metadata": {
        "colab": {
          "base_uri": "https://localhost:8080/"
        },
        "id": "Rs5auzcK1Wui",
        "outputId": "0ad5d6df-8277-4a0a-f7a0-f2ee88d4157a"
      },
      "outputs": [
        {
          "output_type": "execute_result",
          "data": {
            "text/plain": [
              "True"
            ]
          },
          "metadata": {},
          "execution_count": 39
        }
      ],
      "source": [
        "[1, 2] in my_list"
      ]
    },
    {
      "cell_type": "code",
      "execution_count": 40,
      "metadata": {
        "colab": {
          "base_uri": "https://localhost:8080/"
        },
        "id": "yuLi99Zq1Wul",
        "outputId": "6cc5d5f9-e5c8-4ddd-8f07-d1cf855ca65d"
      },
      "outputs": [
        {
          "output_type": "execute_result",
          "data": {
            "text/plain": [
              "True"
            ]
          },
          "metadata": {},
          "execution_count": 40
        }
      ],
      "source": [
        "[117] not in my_list"
      ]
    },
    {
      "cell_type": "markdown",
      "metadata": {
        "id": "2bhfEa1Z1Wun"
      },
      "source": [
        "***Remove an element from the list***\n",
        "\n",
        "---"
      ]
    },
    {
      "cell_type": "code",
      "execution_count": 41,
      "metadata": {
        "colab": {
          "base_uri": "https://localhost:8080/"
        },
        "id": "eQXhgLNy1Wuo",
        "outputId": "ae1b1243-d39c-45db-92ba-ce2a7c0619b0"
      },
      "outputs": [
        {
          "output_type": "execute_result",
          "data": {
            "text/plain": [
              "[1,\n",
              " 'w',\n",
              " 2,\n",
              " 3,\n",
              " ['explore', 'python'],\n",
              " 4,\n",
              " 5,\n",
              " 6,\n",
              " 7,\n",
              " 8,\n",
              " 9,\n",
              " 10,\n",
              " 3,\n",
              " [1, 2],\n",
              " 2,\n",
              " 2,\n",
              " 3,\n",
              " 4]"
            ]
          },
          "metadata": {},
          "execution_count": 41
        }
      ],
      "source": [
        "my_list"
      ]
    },
    {
      "cell_type": "code",
      "execution_count": 42,
      "metadata": {
        "colab": {
          "base_uri": "https://localhost:8080/"
        },
        "id": "mE1NuYou1Wup",
        "outputId": "02015d0a-17b4-47c3-8584-0a5fc71e19e7"
      },
      "outputs": [
        {
          "output_type": "execute_result",
          "data": {
            "text/plain": [
              "[1, 'w', 2, 3, ['explore', 'python'], 5, 6, 7, 8, 9, 10, 3, [1, 2], 2, 2, 3, 4]"
            ]
          },
          "metadata": {},
          "execution_count": 42
        }
      ],
      "source": [
        "# using remove method, It will find and delete the first element found 4\n",
        "my_list.remove(4)\n",
        "my_list"
      ]
    },
    {
      "cell_type": "code",
      "execution_count": 43,
      "metadata": {
        "colab": {
          "base_uri": "https://localhost:8080/"
        },
        "id": "IgFNTFVn1Wuq",
        "outputId": "02e1fb63-3d86-4562-8b80-a5e5952824b4"
      },
      "outputs": [
        {
          "output_type": "execute_result",
          "data": {
            "text/plain": [
              "['w', 2, 3, ['explore', 'python'], 5, 6, 7, 8, 9, 10, 3, [1, 2], 2, 2, 3, 4]"
            ]
          },
          "metadata": {},
          "execution_count": 43
        }
      ],
      "source": [
        "# using del keyword, It will delete the element present at the zeroth index\n",
        "del my_list[0]\n",
        "my_list"
      ]
    },
    {
      "cell_type": "code",
      "source": [
        "# using pop method, it will delete the last element of the list(if not any index were given)\n",
        "my_list.pop()\n",
        "my_list"
      ],
      "metadata": {
        "colab": {
          "base_uri": "https://localhost:8080/"
        },
        "id": "WbubPHsz3znQ",
        "outputId": "32bb60e8-2954-4f17-89a9-e0dc18f7b7da"
      },
      "execution_count": 44,
      "outputs": [
        {
          "output_type": "execute_result",
          "data": {
            "text/plain": [
              "['w', 2, 3, ['explore', 'python'], 5, 6, 7, 8, 9, 10, 3, [1, 2], 2, 2, 3]"
            ]
          },
          "metadata": {},
          "execution_count": 44
        }
      ]
    },
    {
      "cell_type": "code",
      "source": [
        "my_list.pop(3)\n",
        "my_list\n",
        "#element at third index(python) deleted"
      ],
      "metadata": {
        "colab": {
          "base_uri": "https://localhost:8080/"
        },
        "id": "Hoe3R2xV4R4H",
        "outputId": "4714bcc9-e18d-42ab-d2d3-c9922171cab9"
      },
      "execution_count": 45,
      "outputs": [
        {
          "output_type": "execute_result",
          "data": {
            "text/plain": [
              "['w', 2, 3, 5, 6, 7, 8, 9, 10, 3, [1, 2], 2, 2, 3]"
            ]
          },
          "metadata": {},
          "execution_count": 45
        }
      ]
    },
    {
      "cell_type": "markdown",
      "metadata": {
        "id": "OJzW11-C1Wus"
      },
      "source": [
        "***Iterate the list.***\n",
        "\n",
        "---"
      ]
    },
    {
      "cell_type": "code",
      "execution_count": 46,
      "metadata": {
        "id": "RrEDd9851Wut",
        "outputId": "42b84a8d-2a70-4fbb-d7ac-069286be6494",
        "colab": {
          "base_uri": "https://localhost:8080/"
        }
      },
      "outputs": [
        {
          "output_type": "stream",
          "name": "stdout",
          "text": [
            "w\n",
            "2\n",
            "3\n",
            "5\n",
            "6\n",
            "7\n",
            "8\n",
            "9\n",
            "10\n",
            "3\n",
            "[1, 2]\n",
            "2\n",
            "2\n",
            "3\n"
          ]
        }
      ],
      "source": [
        "# interate a list\n",
        "for element in my_list:\n",
        "    print(element)"
      ]
    },
    {
      "cell_type": "markdown",
      "metadata": {
        "id": "pTQFdXDS1Wuu"
      },
      "source": [
        "***Some pre-defined method on List***\n",
        "\n",
        "---"
      ]
    },
    {
      "cell_type": "code",
      "execution_count": 47,
      "metadata": {
        "id": "URNj2W7M1Wuv"
      },
      "outputs": [],
      "source": [
        "# creat another random list\n",
        "my_list_2 = [1, 33, 3432, 232, 1 ]"
      ]
    },
    {
      "cell_type": "code",
      "execution_count": 48,
      "metadata": {
        "colab": {
          "base_uri": "https://localhost:8080/"
        },
        "id": "mHx9kWwE1Wuw",
        "outputId": "81c5a90f-7791-4543-b634-232151c330f1"
      },
      "outputs": [
        {
          "output_type": "execute_result",
          "data": {
            "text/plain": [
              "5"
            ]
          },
          "metadata": {},
          "execution_count": 48
        }
      ],
      "source": [
        "# find out the length of the list\n",
        "len(my_list_2)"
      ]
    },
    {
      "cell_type": "code",
      "execution_count": 49,
      "metadata": {
        "colab": {
          "base_uri": "https://localhost:8080/"
        },
        "id": "p2jGc47D1Wux",
        "outputId": "323f04bd-98e1-487f-83b8-cf4bde4b940c"
      },
      "outputs": [
        {
          "output_type": "execute_result",
          "data": {
            "text/plain": [
              "[1, 232, 3432, 33, 1]"
            ]
          },
          "metadata": {},
          "execution_count": 49
        }
      ],
      "source": [
        "# length of the list\n",
        "my_list_2.reverse()\n",
        "my_list_2"
      ]
    },
    {
      "cell_type": "code",
      "execution_count": 50,
      "metadata": {
        "colab": {
          "base_uri": "https://localhost:8080/"
        },
        "id": "cRRbaW1v1Wuy",
        "outputId": "325f1018-4e08-4a59-e0e3-b5f4657be109"
      },
      "outputs": [
        {
          "output_type": "execute_result",
          "data": {
            "text/plain": [
              "[1, 1, 33, 232, 3432]"
            ]
          },
          "metadata": {},
          "execution_count": 50
        }
      ],
      "source": [
        "# sort the list\n",
        "my_list_2.sort()\n",
        "my_list_2"
      ]
    },
    {
      "cell_type": "code",
      "source": [
        "my_list_2"
      ],
      "metadata": {
        "colab": {
          "base_uri": "https://localhost:8080/"
        },
        "id": "rHr645-W2iVe",
        "outputId": "b2f3f0a9-1083-47b1-98ac-e09b59a0e37b"
      },
      "execution_count": 51,
      "outputs": [
        {
          "output_type": "execute_result",
          "data": {
            "text/plain": [
              "[1, 1, 33, 232, 3432]"
            ]
          },
          "metadata": {},
          "execution_count": 51
        }
      ]
    },
    {
      "cell_type": "code",
      "execution_count": 52,
      "metadata": {
        "colab": {
          "base_uri": "https://localhost:8080/"
        },
        "id": "Msp07_Ip1Wuy",
        "outputId": "e140d304-bc52-4a8f-cb72-1e9af84372c5"
      },
      "outputs": [
        {
          "output_type": "stream",
          "name": "stdout",
          "text": [
            "[1, 2, 33, 34, 35, 42]\n",
            "[42, 35, 34, 33, 2, 1]\n",
            "[2, 33, 42, 1, 34, 35]\n"
          ]
        }
      ],
      "source": [
        "# another way of sorting list\n",
        "sample_list = [2, 33, 42, 1, 34, 35]\n",
        "print(sorted(sample_list))\n",
        "print(sorted(sample_list, reverse = True))\n",
        "print(sample_list)"
      ]
    },
    {
      "cell_type": "markdown",
      "metadata": {
        "id": "VAPPzpjn1Wuz"
      },
      "source": [
        "***Nested List***\n",
        "\n",
        "* Some or all of the elements in the list are also of type list.\n",
        "\n",
        "---"
      ]
    },
    {
      "cell_type": "code",
      "execution_count": 53,
      "metadata": {
        "id": "fLiefNJh1Wu0"
      },
      "outputs": [],
      "source": [
        "# define a sample nested list\n",
        "my_list_3 = [1, 2, [1, 2, 1], ['A', 'B', 'C'], 'W', ['A', 'A', 'A']]"
      ]
    },
    {
      "cell_type": "code",
      "execution_count": 54,
      "metadata": {
        "id": "68_fS2K81Wu1",
        "outputId": "5cad826a-8934-4710-90af-e9df10f784b6",
        "colab": {
          "base_uri": "https://localhost:8080/"
        }
      },
      "outputs": [
        {
          "output_type": "execute_result",
          "data": {
            "text/plain": [
              "6"
            ]
          },
          "metadata": {},
          "execution_count": 54
        }
      ],
      "source": [
        "# length of the list\n",
        "len(my_list_3)"
      ]
    },
    {
      "cell_type": "code",
      "execution_count": 55,
      "metadata": {
        "id": "NtIW6-TO1Wu2",
        "outputId": "0220d981-83d8-4f9c-e522-0406ca06efba",
        "colab": {
          "base_uri": "https://localhost:8080/"
        }
      },
      "outputs": [
        {
          "output_type": "execute_result",
          "data": {
            "text/plain": [
              "2"
            ]
          },
          "metadata": {},
          "execution_count": 55
        }
      ],
      "source": [
        "# second element is a sigle element\n",
        "my_list_3[1]"
      ]
    },
    {
      "cell_type": "code",
      "execution_count": 56,
      "metadata": {
        "id": "Kjg3qYjL1Wu3",
        "outputId": "896251ac-f94b-4393-b9b8-451d8376d56b",
        "colab": {
          "base_uri": "https://localhost:8080/"
        }
      },
      "outputs": [
        {
          "output_type": "execute_result",
          "data": {
            "text/plain": [
              "[1, 2, 1]"
            ]
          },
          "metadata": {},
          "execution_count": 56
        }
      ],
      "source": [
        "# third element is of type list\n",
        "my_list_3[2]"
      ]
    },
    {
      "cell_type": "code",
      "execution_count": 57,
      "metadata": {
        "id": "3gWisYpo1Wu4",
        "outputId": "989a2bbf-7983-433d-e474-5947f813cd99",
        "colab": {
          "base_uri": "https://localhost:8080/"
        }
      },
      "outputs": [
        {
          "output_type": "execute_result",
          "data": {
            "text/plain": [
              "2"
            ]
          },
          "metadata": {},
          "execution_count": 57
        }
      ],
      "source": [
        "# access particular element of the third element (list type element)\n",
        "my_list_3[2][1]"
      ]
    },
    {
      "cell_type": "code",
      "execution_count": 58,
      "metadata": {
        "id": "Y2nqjvz31Wu5",
        "outputId": "67ef4ac3-adda-4fd4-ac35-bede8df86a8c",
        "colab": {
          "base_uri": "https://localhost:8080/",
          "height": 35
        }
      },
      "outputs": [
        {
          "output_type": "execute_result",
          "data": {
            "text/plain": [
              "'C'"
            ],
            "application/vnd.google.colaboratory.intrinsic+json": {
              "type": "string"
            }
          },
          "metadata": {},
          "execution_count": 58
        }
      ],
      "source": [
        "# access element with negative index\n",
        "my_list_3[-3][-1]"
      ]
    }
  ],
  "metadata": {
    "kernelspec": {
      "display_name": "Python 3",
      "language": "python",
      "name": "python3"
    },
    "language_info": {
      "codemirror_mode": {
        "name": "ipython",
        "version": 3
      },
      "file_extension": ".py",
      "mimetype": "text/x-python",
      "name": "python",
      "nbconvert_exporter": "python",
      "pygments_lexer": "ipython3",
      "version": "3.7.3"
    },
    "colab": {
      "name": "Data_Structure_List.ipynb",
      "provenance": [],
      "collapsed_sections": [],
      "include_colab_link": true
    }
  },
  "nbformat": 4,
  "nbformat_minor": 0
}
