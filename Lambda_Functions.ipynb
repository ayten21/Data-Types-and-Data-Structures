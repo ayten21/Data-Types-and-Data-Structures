{
  "nbformat": 4,
  "nbformat_minor": 0,
  "metadata": {
    "kernelspec": {
      "display_name": "Python 3",
      "language": "python",
      "name": "python3"
    },
    "language_info": {
      "codemirror_mode": {
        "name": "ipython",
        "version": 3
      },
      "file_extension": ".py",
      "mimetype": "text/x-python",
      "name": "python",
      "nbconvert_exporter": "python",
      "pygments_lexer": "ipython3",
      "version": "3.7.3"
    },
    "colab": {
      "name": "Lambda_Functions.ipynb",
      "provenance": [],
      "collapsed_sections": [],
      "include_colab_link": true
    }
  },
  "cells": [
    {
      "cell_type": "markdown",
      "metadata": {
        "id": "view-in-github",
        "colab_type": "text"
      },
      "source": [
        "<a href=\"https://colab.research.google.com/github/ayten21/Explore-Python/blob/main/Lambda_Functions.ipynb\" target=\"_parent\"><img src=\"https://colab.research.google.com/assets/colab-badge.svg\" alt=\"Open In Colab\"/></a>"
      ]
    },
    {
      "cell_type": "markdown",
      "metadata": {
        "id": "09VUrnZcLk5b"
      },
      "source": [
        "---\n",
        "---\n",
        "\n",
        "<center><h1>Lambda Functions</h1></center>"
      ]
    },
    {
      "cell_type": "markdown",
      "metadata": {
        "id": "mrwFY9fiLZ32"
      },
      "source": [
        "\n",
        "\n",
        "---\n",
        "\n",
        "\n",
        "---\n",
        "\n",
        "***`Lambda Functions`***\n",
        "\n",
        "\n",
        "\n",
        "\n",
        "\n",
        "* This function can have any number of arguments but only one expression, which is evaluated and returned.\n",
        "* You need to keep in your knowledge that lambda functions are syntactically restricted to a single expression.\n",
        "\n",
        "* It is more efficient than function when the function task is small.\n",
        "* Do not use Lambda functions when task is complex.\n",
        "* It works best when you have to call a function millions of times but the execution task is simple.\n",
        "\n",
        "\n",
        "---\n",
        "\n",
        "***A Lambda function that adds 20 to the number that is passed as an argument.***\n",
        "\n",
        "\n",
        "---\n",
        "\n"
      ]
    },
    {
      "cell_type": "code",
      "metadata": {
        "id": "bjSwjR6oLk5y"
      },
      "source": [
        "def add_20(a):\n",
        "    return a+20"
      ],
      "execution_count": 1,
      "outputs": []
    },
    {
      "cell_type": "code",
      "metadata": {
        "id": "vn7GT_cnLk6L",
        "colab": {
          "base_uri": "https://localhost:8080/"
        },
        "outputId": "6854dd17-055b-4cd8-97af-70406e342f70"
      },
      "source": [
        "add_20(5)"
      ],
      "execution_count": 2,
      "outputs": [
        {
          "output_type": "execute_result",
          "data": {
            "text/plain": [
              "25"
            ]
          },
          "metadata": {},
          "execution_count": 2
        }
      ]
    },
    {
      "cell_type": "code",
      "metadata": {
        "id": "RAdDvvtkLSv3",
        "colab": {
          "base_uri": "https://localhost:8080/"
        },
        "outputId": "1116f7d7-4d5d-4670-b27c-d9bad7f49bf2"
      },
      "source": [
        "var = lambda a : a + 20\n",
        "\n",
        "\n",
        "print('With argument value 5 : ',var(5))\n",
        "print('With argument value 10 : ',var(10))"
      ],
      "execution_count": 3,
      "outputs": [
        {
          "output_type": "stream",
          "name": "stdout",
          "text": [
            "With argument value 5 :  25\n",
            "With argument value 10 :  30\n"
          ]
        }
      ]
    },
    {
      "cell_type": "markdown",
      "metadata": {
        "id": "u6wipIxKjZtz"
      },
      "source": [
        "\n",
        "\n",
        "---\n",
        "\n",
        "\n",
        "***A Lambda function with two arguments.***\n",
        "\n",
        "\n",
        "---\n",
        "\n"
      ]
    },
    {
      "cell_type": "code",
      "metadata": {
        "id": "AVwBF75miR8G",
        "colab": {
          "base_uri": "https://localhost:8080/"
        },
        "outputId": "ab20a83c-eeb5-4e9e-dd18-b7446093de50"
      },
      "source": [
        "lambda_add = lambda a, b : a+b\n",
        "\n",
        "print('The value of 5+3 = ',lambda_add(5,3))\n",
        "print('The value of 7+2 = ',lambda_add(7,2))"
      ],
      "execution_count": 4,
      "outputs": [
        {
          "output_type": "stream",
          "name": "stdout",
          "text": [
            "The value of 5+3 =  8\n",
            "The value of 7+2 =  9\n"
          ]
        }
      ]
    },
    {
      "cell_type": "markdown",
      "metadata": {
        "id": "N-ZM_44Cn6YV"
      },
      "source": [
        "\n",
        "\n",
        "---\n",
        "\n",
        "***FILTER FUNCTION***\n",
        "\n",
        "***The filter() function in Python takes in a function and a list as arguments. To filter out all the elements of a sequence, for which the function returns True.***\n",
        "\n",
        "---\n",
        "\n"
      ]
    },
    {
      "cell_type": "code",
      "metadata": {
        "id": "tbBWFJN9MZ4K"
      },
      "source": [
        "def normal_even(x):\n",
        "\n",
        "  if x%2 !=0:\n",
        "    return True\n",
        "  else:\n",
        "    return False"
      ],
      "execution_count": 5,
      "outputs": []
    },
    {
      "cell_type": "code",
      "metadata": {
        "id": "D2d2IVlPn1kj",
        "colab": {
          "base_uri": "https://localhost:8080/"
        },
        "outputId": "4b178c29-ea46-4839-ea9b-da915b40d2d3"
      },
      "source": [
        "original_list = [5, 17, 32, 43, 12, 62, 237, 133, 78, 21] \n",
        "\n",
        "# filter the odd numbers from the list\n",
        "filtered_list = list(filter(lambda x: (x%2 != 0) , original_list)) \n",
        "\n",
        "print('The odd numbers are : ',filtered_list) "
      ],
      "execution_count": 6,
      "outputs": [
        {
          "output_type": "stream",
          "name": "stdout",
          "text": [
            "The odd numbers are :  [5, 17, 43, 237, 133, 21]\n"
          ]
        }
      ]
    },
    {
      "cell_type": "code",
      "metadata": {
        "id": "WfcZ3-j2rfCb",
        "colab": {
          "base_uri": "https://localhost:8080/"
        },
        "outputId": "bf7dccc8-5b80-4107-8232-104057889986"
      },
      "source": [
        "original_list = [5, 11, 15, 43, 20, 65, 235, 133, 75, 21] \n",
        "# filter the multiples of 5\n",
        "filtered_list = list(filter(lambda x: (x%5 == 0) , original_list)) \n",
        "print('The multiples of 5 are : ',filtered_list) "
      ],
      "execution_count": 7,
      "outputs": [
        {
          "output_type": "stream",
          "name": "stdout",
          "text": [
            "The multiples of 5 are :  [5, 15, 20, 65, 235, 75]\n"
          ]
        }
      ]
    },
    {
      "cell_type": "code",
      "metadata": {
        "id": "FNTY3IxZr3pD",
        "colab": {
          "base_uri": "https://localhost:8080/"
        },
        "outputId": "640bb05c-1822-4ca2-e858-06a06ca66213"
      },
      "source": [
        "original_list = ['Tensorflow','Machine Learning','Python','Programming','Science','Data'] \n",
        "# filter the words starting with 'S'\n",
        "filtered_list = list(filter(lambda x: (x[0] == 'P') , original_list)) \n",
        "print('The words starting with \"P\" are : ',filtered_list) "
      ],
      "execution_count": 8,
      "outputs": [
        {
          "output_type": "stream",
          "name": "stdout",
          "text": [
            "The words starting with \"P\" are :  ['Python', 'Programming']\n"
          ]
        }
      ]
    },
    {
      "cell_type": "markdown",
      "metadata": {
        "id": "QBMKrxx4tJYU"
      },
      "source": [
        "\n",
        "\n",
        "---\n",
        "\n",
        "***MAP FUNCTION***\n",
        "\n",
        "***The map() function in Python takes in a function and a list as argument. The function is called with a lambda function and a list and a new list is returned which contains all the lambda modified items returned by that function for each item.***\n",
        "\n",
        "---\n",
        "\n"
      ]
    },
    {
      "cell_type": "code",
      "metadata": {
        "id": "Q6op5hjZs7Wx",
        "outputId": "472dec90-e969-4096-d60f-731f9ccc3bd7",
        "colab": {
          "base_uri": "https://localhost:8080/"
        }
      },
      "source": [
        "original_list = [1, 2, 3, 4, 5, 6, 7, 8, 9, 10]\n",
        "# double each number in the original list\n",
        "mapped_list = list(map(lambda x: x*2 , original_list)) \n",
        "print('New List : ',mapped_list)"
      ],
      "execution_count": 9,
      "outputs": [
        {
          "output_type": "stream",
          "name": "stdout",
          "text": [
            "New List :  [2, 4, 6, 8, 10, 12, 14, 16, 18, 20]\n"
          ]
        }
      ]
    },
    {
      "cell_type": "code",
      "metadata": {
        "id": "FNC6y6gzuAoV",
        "colab": {
          "base_uri": "https://localhost:8080/"
        },
        "outputId": "252ac906-be6a-47ae-ac38-fb6ba674383d"
      },
      "source": [
        "original_list = ['tensorflow','machine','learning','data','science']\n",
        "# capatilize first letter of each  word in the original list\n",
        "mapped_list = list(map(lambda x: x[0].upper()+x[1:] , original_list)) \n",
        "print('New List : ',mapped_list)"
      ],
      "execution_count": 10,
      "outputs": [
        {
          "output_type": "stream",
          "name": "stdout",
          "text": [
            "New List :  ['Tensorflow', 'Machine', 'Learning', 'Data', 'Science']\n"
          ]
        }
      ]
    },
    {
      "cell_type": "markdown",
      "metadata": {
        "id": "Is7xbTc9wO_G"
      },
      "source": [
        "\n",
        "\n",
        "---\n",
        "\n",
        "***REDUCE FUNCTION***\n",
        "\n",
        "* ***The reduce() function in Python takes in a function and a list as argument. The function is called with a lambda function and a list and a new reduced result is returned. This performs a repetitive operation over the pairs of the list.***\n",
        "* ***The reduce function will always take two parameters***\n",
        "\n",
        "---\n",
        "\n"
      ]
    },
    {
      "cell_type": "code",
      "metadata": {
        "id": "UhG6E-KIuyFf",
        "outputId": "74f7b8d5-6868-48f2-b743-478152e9709d",
        "colab": {
          "base_uri": "https://localhost:8080/"
        }
      },
      "source": [
        "from functools import reduce\n",
        "original_list = [1, 2, 3, 4, 5, 6, 7, 8, 9]\n",
        "# use reduce function to find the sum of numbers in the original list\n",
        "sum_of_list = reduce((lambda x, y : x + y), original_list) \n",
        "print ('Sum of Numbers in the original list is : ',sum_of_list) "
      ],
      "execution_count": 11,
      "outputs": [
        {
          "output_type": "stream",
          "name": "stdout",
          "text": [
            "Sum of Numbers in the original list is :  45\n"
          ]
        }
      ]
    },
    {
      "cell_type": "code",
      "metadata": {
        "id": "NXt4vLd4xCCi",
        "outputId": "0aaa153d-c531-4def-f078-46de381e0963",
        "colab": {
          "base_uri": "https://localhost:8080/"
        }
      },
      "source": [
        "original_list = [110, 53, 3, 424, 255, 16, 42, 256]\n",
        "# use reduce function to find the largest number in the original list\n",
        "largest_number = reduce((lambda x, y: x if (x > y) else y ), original_list) \n",
        "print ('Largest Number in the original list is : ',largest_number) "
      ],
      "execution_count": 12,
      "outputs": [
        {
          "output_type": "stream",
          "name": "stdout",
          "text": [
            "Largest Number in the original list is :  424\n"
          ]
        }
      ]
    }
  ]
}