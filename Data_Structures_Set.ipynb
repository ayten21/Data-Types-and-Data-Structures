{
  "nbformat": 4,
  "nbformat_minor": 0,
  "metadata": {
    "kernelspec": {
      "display_name": "Python 3",
      "language": "python",
      "name": "python3"
    },
    "language_info": {
      "codemirror_mode": {
        "name": "ipython",
        "version": 3
      },
      "file_extension": ".py",
      "mimetype": "text/x-python",
      "name": "python",
      "nbconvert_exporter": "python",
      "pygments_lexer": "ipython3",
      "version": "3.7.3"
    },
    "colab": {
      "name": "Data Structures - Sets.ipynb",
      "provenance": [],
      "collapsed_sections": [],
      "include_colab_link": true
    }
  },
  "cells": [
    {
      "cell_type": "markdown",
      "metadata": {
        "id": "view-in-github",
        "colab_type": "text"
      },
      "source": [
        "<a href=\"https://colab.research.google.com/github/ayten21/Explore-Python/blob/main/Data_Structures_Sets.ipynb\" target=\"_parent\"><img src=\"https://colab.research.google.com/assets/colab-badge.svg\" alt=\"Open In Colab\"/></a>"
      ]
    },
    {
      "cell_type": "markdown",
      "metadata": {
        "id": "GkuR4xVcdVrb"
      },
      "source": [
        "---\n",
        "---\n",
        "\n",
        "<center><h1> Data Structure - Set </h1></center>\n",
        "\n",
        "---"
      ]
    },
    {
      "cell_type": "markdown",
      "source": [
        "\n",
        "\n",
        "*   Sets are unordered. No matter what you wrote, the sequences will change according to set rules.\n",
        "*   The elements in set are unique\n",
        "\n"
      ],
      "metadata": {
        "id": "7nq9AdYX5jDG"
      }
    },
    {
      "cell_type": "markdown",
      "metadata": {
        "id": "3MqvgR3xdVrp"
      },
      "source": [
        "#### Defining a set in Python\n",
        "\n",
        "---"
      ]
    },
    {
      "cell_type": "code",
      "metadata": {
        "id": "hgbdSpyDdVrx"
      },
      "source": [
        "my_set = {'A', 'B', 'C', 'D', 1, 'E', 2, 4}"
      ],
      "execution_count": 1,
      "outputs": []
    },
    {
      "cell_type": "code",
      "metadata": {
        "id": "j9U1ez2vdVsE",
        "colab": {
          "base_uri": "https://localhost:8080/"
        },
        "outputId": "ff3e4de2-3848-42ca-c234-95d2ee95e809"
      },
      "source": [
        "my_set"
      ],
      "execution_count": 2,
      "outputs": [
        {
          "output_type": "execute_result",
          "data": {
            "text/plain": [
              "{1, 2, 4, 'A', 'B', 'C', 'D', 'E'}"
            ]
          },
          "metadata": {},
          "execution_count": 2
        }
      ]
    },
    {
      "cell_type": "code",
      "metadata": {
        "id": "QChHg6oBdVsS"
      },
      "source": [
        "my_set = {'A', 'B', 'C', 'D', 1, 'E', 2, 4, 2 , 2}"
      ],
      "execution_count": 3,
      "outputs": []
    },
    {
      "cell_type": "code",
      "metadata": {
        "id": "w22G75_WdVse",
        "colab": {
          "base_uri": "https://localhost:8080/"
        },
        "outputId": "cebe4015-c315-4b9c-b343-4083e07b9f90"
      },
      "source": [
        "my_set"
      ],
      "execution_count": 4,
      "outputs": [
        {
          "output_type": "execute_result",
          "data": {
            "text/plain": [
              "{1, 2, 4, 'A', 'B', 'C', 'D', 'E'}"
            ]
          },
          "metadata": {},
          "execution_count": 4
        }
      ]
    },
    {
      "cell_type": "markdown",
      "metadata": {
        "id": "cAKelVCEdVsp"
      },
      "source": [
        "#### Defining a set from a List  and Tuple\n",
        "\n",
        "---"
      ]
    },
    {
      "cell_type": "code",
      "metadata": {
        "id": "_6BizPVmdVss"
      },
      "source": [
        "my_list = ['A', 'B', 1, 2, 'B', 'A']\n",
        "my_set_from_list = set(my_list)"
      ],
      "execution_count": 5,
      "outputs": []
    },
    {
      "cell_type": "code",
      "metadata": {
        "id": "m-Qgd_vjdVs2",
        "colab": {
          "base_uri": "https://localhost:8080/"
        },
        "outputId": "da4ee674-5c05-4267-b1c9-4c402927113a"
      },
      "source": [
        "my_set_from_list"
      ],
      "execution_count": 6,
      "outputs": [
        {
          "output_type": "execute_result",
          "data": {
            "text/plain": [
              "{1, 2, 'A', 'B'}"
            ]
          },
          "metadata": {},
          "execution_count": 6
        }
      ]
    },
    {
      "cell_type": "code",
      "metadata": {
        "id": "CUnpOARjdVtA"
      },
      "source": [
        "my_tuple = ('A', 'B', 1, 2, 'B', 'A')\n",
        "my_set_from_tuple = set(my_tuple)"
      ],
      "execution_count": 7,
      "outputs": []
    },
    {
      "cell_type": "code",
      "metadata": {
        "id": "vR1MqK5hdVtG",
        "colab": {
          "base_uri": "https://localhost:8080/"
        },
        "outputId": "c8565a98-7328-4f7b-94cf-b855de4686d0"
      },
      "source": [
        "my_set_from_tuple"
      ],
      "execution_count": 8,
      "outputs": [
        {
          "output_type": "execute_result",
          "data": {
            "text/plain": [
              "{1, 2, 'A', 'B'}"
            ]
          },
          "metadata": {},
          "execution_count": 8
        }
      ]
    },
    {
      "cell_type": "markdown",
      "metadata": {
        "id": "dHLllxcrdVtL"
      },
      "source": [
        "#### Add an element to the set\n",
        "\n",
        "---"
      ]
    },
    {
      "cell_type": "code",
      "metadata": {
        "id": "KfFCL3phdVtN"
      },
      "source": [
        "#you can add any element to a set using add function\n",
        "my_set.add('O')"
      ],
      "execution_count": 11,
      "outputs": []
    },
    {
      "cell_type": "code",
      "metadata": {
        "id": "95LU3t5rdVtT",
        "colab": {
          "base_uri": "https://localhost:8080/"
        },
        "outputId": "aa873c55-97b3-40f3-e639-608f80e6fa6d"
      },
      "source": [
        "my_set"
      ],
      "execution_count": 12,
      "outputs": [
        {
          "output_type": "execute_result",
          "data": {
            "text/plain": [
              "{1, 2, 4, 'A', 'B', 'C', 'D', 'E', 'O'}"
            ]
          },
          "metadata": {},
          "execution_count": 12
        }
      ]
    },
    {
      "cell_type": "markdown",
      "metadata": {
        "id": "ivDskOwldVta"
      },
      "source": [
        "#### Delete an element from the list\n",
        "\n",
        "* Discard - It will not throw an error, if the element you want to remove is not present in the set.\n",
        "* remove - It will throw an error, if the element you want to remove is not present in the set.\n",
        "\n",
        "---\n",
        "\n"
      ]
    },
    {
      "cell_type": "code",
      "metadata": {
        "id": "RSiU9_hJdVtb"
      },
      "source": [
        "my_set = {1, 2, 4, 'A', 'B', 'C', 'D', 'E', 'O'}"
      ],
      "execution_count": 13,
      "outputs": []
    },
    {
      "cell_type": "code",
      "metadata": {
        "id": "V-EpIkwHdVtg"
      },
      "source": [
        "my_set.discard('A')"
      ],
      "execution_count": 14,
      "outputs": []
    },
    {
      "cell_type": "code",
      "metadata": {
        "id": "Y5kfukGfdVtr",
        "colab": {
          "base_uri": "https://localhost:8080/"
        },
        "outputId": "8eb3960e-7a9f-4d35-c3d2-2ac19b758844"
      },
      "source": [
        "my_set"
      ],
      "execution_count": 15,
      "outputs": [
        {
          "output_type": "execute_result",
          "data": {
            "text/plain": [
              "{1, 2, 4, 'B', 'C', 'D', 'E', 'O'}"
            ]
          },
          "metadata": {},
          "execution_count": 15
        }
      ]
    },
    {
      "cell_type": "code",
      "metadata": {
        "id": "w8NZGe59dVt2"
      },
      "source": [
        "my_set.discard('X')"
      ],
      "execution_count": 16,
      "outputs": []
    },
    {
      "cell_type": "code",
      "metadata": {
        "scrolled": true,
        "id": "Qb8SKy-bdVuA",
        "colab": {
          "base_uri": "https://localhost:8080/",
          "height": 165
        },
        "outputId": "d0087837-b0bb-42c4-99a9-523f7faf9999"
      },
      "source": [
        "my_set.remove('X')"
      ],
      "execution_count": 17,
      "outputs": [
        {
          "output_type": "error",
          "ename": "KeyError",
          "evalue": "ignored",
          "traceback": [
            "\u001b[0;31m---------------------------------------------------------------------------\u001b[0m",
            "\u001b[0;31mKeyError\u001b[0m                                  Traceback (most recent call last)",
            "\u001b[0;32m<ipython-input-17-b6f9b758b157>\u001b[0m in \u001b[0;36m<module>\u001b[0;34m()\u001b[0m\n\u001b[0;32m----> 1\u001b[0;31m \u001b[0mmy_set\u001b[0m\u001b[0;34m.\u001b[0m\u001b[0mremove\u001b[0m\u001b[0;34m(\u001b[0m\u001b[0;34m'X'\u001b[0m\u001b[0;34m)\u001b[0m\u001b[0;34m\u001b[0m\u001b[0;34m\u001b[0m\u001b[0m\n\u001b[0m",
            "\u001b[0;31mKeyError\u001b[0m: 'X'"
          ]
        }
      ]
    },
    {
      "cell_type": "markdown",
      "metadata": {
        "id": "Rw7jUza9dVuI"
      },
      "source": [
        "#### Difference between two Sets\n",
        "\n",
        "## A-B\n",
        "\n",
        "![](images/difference.png)\n",
        "---"
      ]
    },
    {
      "cell_type": "code",
      "metadata": {
        "id": "MkMNOxuydVuK",
        "colab": {
          "base_uri": "https://localhost:8080/"
        },
        "outputId": "8dab318a-0e7f-4ecc-bf2a-3eb6b3ad7456"
      },
      "source": [
        "# Set 1\n",
        "my_set"
      ],
      "execution_count": 18,
      "outputs": [
        {
          "output_type": "execute_result",
          "data": {
            "text/plain": [
              "{1, 2, 4, 'B', 'C', 'D', 'E', 'O'}"
            ]
          },
          "metadata": {},
          "execution_count": 18
        }
      ]
    },
    {
      "cell_type": "code",
      "metadata": {
        "id": "W8xAoHDpdVuO",
        "colab": {
          "base_uri": "https://localhost:8080/"
        },
        "outputId": "3d1962ca-8dc0-42eb-a320-d920feacdf39"
      },
      "source": [
        "# Set 2\n",
        "my_set_from_list"
      ],
      "execution_count": 19,
      "outputs": [
        {
          "output_type": "execute_result",
          "data": {
            "text/plain": [
              "{1, 2, 'A', 'B'}"
            ]
          },
          "metadata": {},
          "execution_count": 19
        }
      ]
    },
    {
      "cell_type": "code",
      "metadata": {
        "id": "pZS_ckfQdVuW",
        "colab": {
          "base_uri": "https://localhost:8080/"
        },
        "outputId": "23bb1b5e-7e40-4c9e-bf73-b36f00ff3370"
      },
      "source": [
        "# difference of 2 sets\n",
        "my_set.difference(my_set_from_list)"
      ],
      "execution_count": 20,
      "outputs": [
        {
          "output_type": "execute_result",
          "data": {
            "text/plain": [
              "{4, 'C', 'D', 'E', 'O'}"
            ]
          },
          "metadata": {},
          "execution_count": 20
        }
      ]
    },
    {
      "cell_type": "code",
      "metadata": {
        "id": "utaan_92dVug",
        "colab": {
          "base_uri": "https://localhost:8080/"
        },
        "outputId": "81746305-0deb-40a5-aad2-7559972ebabe"
      },
      "source": [
        "# it will not update the results, if not stored in a variable\n",
        "my_set"
      ],
      "execution_count": 21,
      "outputs": [
        {
          "output_type": "execute_result",
          "data": {
            "text/plain": [
              "{1, 2, 4, 'B', 'C', 'D', 'E', 'O'}"
            ]
          },
          "metadata": {},
          "execution_count": 21
        }
      ]
    },
    {
      "cell_type": "code",
      "metadata": {
        "id": "cqwq2_vvdVup"
      },
      "source": [
        "# use the difference_update to store the results directly\n",
        "my_set.difference_update(my_set_from_list)"
      ],
      "execution_count": 22,
      "outputs": []
    },
    {
      "cell_type": "code",
      "metadata": {
        "id": "9G-1gWAhdVuu",
        "colab": {
          "base_uri": "https://localhost:8080/"
        },
        "outputId": "715efb78-e3e6-41d9-b587-be73cfc4fb4d"
      },
      "source": [
        "# updated set\n",
        "my_set"
      ],
      "execution_count": 23,
      "outputs": [
        {
          "output_type": "execute_result",
          "data": {
            "text/plain": [
              "{4, 'C', 'D', 'E', 'O'}"
            ]
          },
          "metadata": {},
          "execution_count": 23
        }
      ]
    },
    {
      "cell_type": "markdown",
      "metadata": {
        "id": "VmvoAeArdVuy"
      },
      "source": [
        "#### Intersection of two sets\n",
        "\n",
        "\n",
        "![](images/intersection.png)\n",
        "\n",
        "---"
      ]
    },
    {
      "cell_type": "code",
      "metadata": {
        "id": "z-7NNBaxdVu0"
      },
      "source": [
        "# Set 1\n",
        "my_set = {1, 2, 4, 'A', 'B', 'C', 'D', 'E', 'O'}"
      ],
      "execution_count": 24,
      "outputs": []
    },
    {
      "cell_type": "code",
      "metadata": {
        "id": "6FpQbpsHdVu8",
        "colab": {
          "base_uri": "https://localhost:8080/"
        },
        "outputId": "818a9896-69a3-4a7b-d357-687e9f945e25"
      },
      "source": [
        "# Set 2 \n",
        "my_set_from_list"
      ],
      "execution_count": 25,
      "outputs": [
        {
          "output_type": "execute_result",
          "data": {
            "text/plain": [
              "{1, 2, 'A', 'B'}"
            ]
          },
          "metadata": {},
          "execution_count": 25
        }
      ]
    },
    {
      "cell_type": "code",
      "metadata": {
        "id": "QIvF4YyOdVvG",
        "colab": {
          "base_uri": "https://localhost:8080/"
        },
        "outputId": "d77e2ffc-38b4-41b4-9192-f0765f50fd91"
      },
      "source": [
        "# intersection of 2 sets\n",
        "my_set.intersection(my_set_from_list)"
      ],
      "execution_count": 26,
      "outputs": [
        {
          "output_type": "execute_result",
          "data": {
            "text/plain": [
              "{1, 2, 'A', 'B'}"
            ]
          },
          "metadata": {},
          "execution_count": 26
        }
      ]
    },
    {
      "cell_type": "code",
      "metadata": {
        "id": "0qXvUeKgdVvR",
        "colab": {
          "base_uri": "https://localhost:8080/"
        },
        "outputId": "1a7cdcec-6590-4acf-e8c7-b17c5cfb4153"
      },
      "source": [
        "# it will not update the results, if not stored in a variable\n",
        "my_set"
      ],
      "execution_count": 27,
      "outputs": [
        {
          "output_type": "execute_result",
          "data": {
            "text/plain": [
              "{1, 2, 4, 'A', 'B', 'C', 'D', 'E', 'O'}"
            ]
          },
          "metadata": {},
          "execution_count": 27
        }
      ]
    },
    {
      "cell_type": "code",
      "metadata": {
        "id": "K05y2YVtdVvV"
      },
      "source": [
        "# to update directly, use intersection_update\n",
        "my_set.intersection_update(my_set_from_list)"
      ],
      "execution_count": 28,
      "outputs": []
    },
    {
      "cell_type": "code",
      "metadata": {
        "id": "rJ7CWNKNdVvb",
        "colab": {
          "base_uri": "https://localhost:8080/"
        },
        "outputId": "871ca258-b3db-4c24-fee7-d3d6f9b1b696"
      },
      "source": [
        "# updated set\n",
        "my_set"
      ],
      "execution_count": 29,
      "outputs": [
        {
          "output_type": "execute_result",
          "data": {
            "text/plain": [
              "{1, 2, 'A', 'B'}"
            ]
          },
          "metadata": {},
          "execution_count": 29
        }
      ]
    },
    {
      "cell_type": "markdown",
      "metadata": {
        "id": "R7ugFNO1dVvg"
      },
      "source": [
        "#### Other operations on set\n",
        "\n",
        "* is_disjoint\n",
        "* is_subset\n",
        "* is_superset\n",
        "* union\n",
        "\n",
        "---"
      ]
    },
    {
      "cell_type": "code",
      "metadata": {
        "id": "a0-b10pedVvj"
      },
      "source": [
        "# define 3 random sets\n",
        "sample_set_1 = {'A', 'B', 'C', 'D', 'E', 'F'}\n",
        "sample_set_2 = {'A', 'D', 'E'}\n",
        "sample_set_3 = {'S', 'T', 'U'}"
      ],
      "execution_count": 30,
      "outputs": []
    },
    {
      "cell_type": "code",
      "metadata": {
        "id": "CdukRgokdVvo",
        "colab": {
          "base_uri": "https://localhost:8080/"
        },
        "outputId": "ad9b4ffc-120d-4b82-d298-1fd5987e8aa1"
      },
      "source": [
        "# check if 2 sets are disjoint sets\n",
        "sample_set_1.isdisjoint(sample_set_2)"
      ],
      "execution_count": 31,
      "outputs": [
        {
          "output_type": "execute_result",
          "data": {
            "text/plain": [
              "False"
            ]
          },
          "metadata": {},
          "execution_count": 31
        }
      ]
    },
    {
      "cell_type": "code",
      "metadata": {
        "id": "1ElEgF29dVvv",
        "colab": {
          "base_uri": "https://localhost:8080/"
        },
        "outputId": "53b3b1e9-3f18-4c4a-a426-dd3d35bd172f"
      },
      "source": [
        "sample_set_1.isdisjoint(sample_set_3)"
      ],
      "execution_count": 32,
      "outputs": [
        {
          "output_type": "execute_result",
          "data": {
            "text/plain": [
              "True"
            ]
          },
          "metadata": {},
          "execution_count": 32
        }
      ]
    },
    {
      "cell_type": "code",
      "metadata": {
        "id": "51e1DYEcdVv2",
        "colab": {
          "base_uri": "https://localhost:8080/"
        },
        "outputId": "63072dd4-c173-485e-c4d6-52a83a7048f3"
      },
      "source": [
        "# check if one set is subset of another set\n",
        "sample_set_2.issubset(sample_set_1)"
      ],
      "execution_count": 33,
      "outputs": [
        {
          "output_type": "execute_result",
          "data": {
            "text/plain": [
              "True"
            ]
          },
          "metadata": {},
          "execution_count": 33
        }
      ]
    },
    {
      "cell_type": "code",
      "metadata": {
        "id": "H-A7aAV_dVv_",
        "colab": {
          "base_uri": "https://localhost:8080/"
        },
        "outputId": "dec8de5c-8259-49bf-adf0-92b33493c8c0"
      },
      "source": [
        "# check if one set is superset of another\n",
        "sample_set_1.issuperset(sample_set_2)"
      ],
      "execution_count": 34,
      "outputs": [
        {
          "output_type": "execute_result",
          "data": {
            "text/plain": [
              "True"
            ]
          },
          "metadata": {},
          "execution_count": 34
        }
      ]
    },
    {
      "cell_type": "code",
      "metadata": {
        "id": "BFjri6cvdVwG",
        "colab": {
          "base_uri": "https://localhost:8080/"
        },
        "outputId": "7fe7e1aa-62e7-4bf8-bc08-714777c251be"
      },
      "source": [
        "# union of 2 sets\n",
        "sample_set_1.union(sample_set_3)"
      ],
      "execution_count": 35,
      "outputs": [
        {
          "output_type": "execute_result",
          "data": {
            "text/plain": [
              "{'A', 'B', 'C', 'D', 'E', 'F', 'S', 'T', 'U'}"
            ]
          },
          "metadata": {},
          "execution_count": 35
        }
      ]
    },
    {
      "cell_type": "markdown",
      "metadata": {
        "id": "hwWfDltBdVwQ"
      },
      "source": [
        "#### Update Set\n",
        "\n",
        "---"
      ]
    },
    {
      "cell_type": "code",
      "metadata": {
        "id": "eury5_2DdVwV"
      },
      "source": [
        "# update a set with new values, it will add the values which are not present in the original set.\n",
        "sample_set_1.update({'C', 'D', 'E', 'R', 'Z'})"
      ],
      "execution_count": 36,
      "outputs": []
    },
    {
      "cell_type": "code",
      "metadata": {
        "id": "oQ_-c0dvdVwa",
        "colab": {
          "base_uri": "https://localhost:8080/"
        },
        "outputId": "5fa3b8a2-0168-4da8-af49-8d0d58867243"
      },
      "source": [
        "sample_set_1"
      ],
      "execution_count": 37,
      "outputs": [
        {
          "output_type": "execute_result",
          "data": {
            "text/plain": [
              "{'A', 'B', 'C', 'D', 'E', 'F', 'R', 'Z'}"
            ]
          },
          "metadata": {},
          "execution_count": 37
        }
      ]
    },
    {
      "cell_type": "markdown",
      "metadata": {
        "id": "gPh8sLA1dVwf"
      },
      "source": [
        "#### Iterate the set\n",
        "\n",
        "---"
      ]
    },
    {
      "cell_type": "code",
      "metadata": {
        "id": "HgzUYemBdVwg",
        "colab": {
          "base_uri": "https://localhost:8080/"
        },
        "outputId": "e98254f9-1dd5-4a31-ca96-2d357dcdf330"
      },
      "source": [
        "# Iterate the set\n",
        "for element in sample_set_1:\n",
        "    print(element)"
      ],
      "execution_count": 38,
      "outputs": [
        {
          "output_type": "stream",
          "name": "stdout",
          "text": [
            "B\n",
            "A\n",
            "Z\n",
            "E\n",
            "F\n",
            "D\n",
            "R\n",
            "C\n"
          ]
        }
      ]
    },
    {
      "cell_type": "code",
      "metadata": {
        "id": "WqDL35BldVwk"
      },
      "source": [
        ""
      ],
      "execution_count": null,
      "outputs": []
    }
  ]
}
