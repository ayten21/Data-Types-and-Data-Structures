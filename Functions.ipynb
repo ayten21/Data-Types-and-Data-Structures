{
  "cells": [
    {
      "cell_type": "markdown",
      "metadata": {
        "id": "view-in-github",
        "colab_type": "text"
      },
      "source": [
        "<a href=\"https://colab.research.google.com/github/ayten21/Explore-Python/blob/main/Functions.ipynb\" target=\"_parent\"><img src=\"https://colab.research.google.com/assets/colab-badge.svg\" alt=\"Open In Colab\"/></a>"
      ]
    },
    {
      "cell_type": "markdown",
      "metadata": {
        "id": "MLnw6eZ2eUEC"
      },
      "source": [
        "---\n",
        "\n",
        "## Defining Functions \n",
        "---\n",
        "\n",
        "* ***Purpose of functions is to group a particular lines of code that needs to be executed multiple times.***\n",
        "* ***The keyword `def` introduces a function definition and it must be followed by the function name.***\n",
        "\n",
        "---"
      ]
    },
    {
      "cell_type": "code",
      "execution_count": 17,
      "metadata": {
        "id": "vlU-bKEoeUEj"
      },
      "outputs": [],
      "source": [
        "def welcome():\n",
        "    print(\"Let's explore Python together!\")"
      ]
    },
    {
      "cell_type": "code",
      "execution_count": 18,
      "metadata": {
        "colab": {
          "base_uri": "https://localhost:8080/"
        },
        "id": "Zc126HXKeUEn",
        "outputId": "04f83c98-6f40-4251-97b0-2cf7e989e6b7"
      },
      "outputs": [
        {
          "output_type": "stream",
          "name": "stdout",
          "text": [
            "Let's explore Python together!\n"
          ]
        }
      ],
      "source": [
        "# calling a function in python\n",
        "welcome()"
      ]
    },
    {
      "cell_type": "markdown",
      "metadata": {
        "id": "EQhp-ytNeUEu"
      },
      "source": [
        "---\n",
        "\n",
        "***`return statement:`***\n",
        "\n",
        "- A `return` statement is used to end the execution of the function call and gives the result. \n",
        "- The statements after the `return statements` are not executed.\n",
        "\n",
        "---"
      ]
    },
    {
      "cell_type": "code",
      "execution_count": 19,
      "metadata": {
        "id": "JJVYMixweUEw"
      },
      "outputs": [],
      "source": [
        "def add_two_numbers():\n",
        "    total = 3 + 4\n",
        "    print(\"Sum of 3 and 4 is:\", total)"
      ]
    },
    {
      "cell_type": "code",
      "execution_count": 20,
      "metadata": {
        "id": "_mLSk0NweUEz"
      },
      "outputs": [],
      "source": [
        "def add_two_numbers_with_return():\n",
        "    total = 3 + 4\n",
        "    print(\"Sum of 3 and 4 is:\", total)\n",
        "    return total"
      ]
    },
    {
      "cell_type": "code",
      "execution_count": 21,
      "metadata": {
        "colab": {
          "base_uri": "https://localhost:8080/"
        },
        "id": "V8bZu_5AeUE2",
        "outputId": "e8674548-f99e-4555-984d-75e4c2be6632"
      },
      "outputs": [
        {
          "output_type": "stream",
          "name": "stdout",
          "text": [
            "Sum of 3 and 4 is: 7\n"
          ]
        }
      ],
      "source": [
        "add_two_numbers()"
      ]
    },
    {
      "cell_type": "code",
      "execution_count": 22,
      "metadata": {
        "colab": {
          "base_uri": "https://localhost:8080/"
        },
        "id": "D85I0w5ueUE5",
        "outputId": "34b5becb-46ef-46df-ea9e-ecfc41c3c7ce"
      },
      "outputs": [
        {
          "output_type": "stream",
          "name": "stdout",
          "text": [
            "Sum of 3 and 4 is: 7\n"
          ]
        }
      ],
      "source": [
        "output_1 = add_two_numbers()"
      ]
    },
    {
      "cell_type": "code",
      "execution_count": 23,
      "metadata": {
        "id": "7doBdkHCeUE8"
      },
      "outputs": [],
      "source": [
        "output_1 # values not saved"
      ]
    },
    {
      "cell_type": "code",
      "execution_count": 24,
      "metadata": {
        "colab": {
          "base_uri": "https://localhost:8080/"
        },
        "id": "mNSAIwPdeUE9",
        "outputId": "2d7fb97e-a239-4aca-e683-60ae3931e738"
      },
      "outputs": [
        {
          "output_type": "stream",
          "name": "stdout",
          "text": [
            "Sum of 3 and 4 is: 7\n"
          ]
        }
      ],
      "source": [
        "output_2 = add_two_numbers_with_return()"
      ]
    },
    {
      "cell_type": "code",
      "execution_count": 25,
      "metadata": {
        "colab": {
          "base_uri": "https://localhost:8080/"
        },
        "id": "QAHvnIRTeUFA",
        "outputId": "761e44b3-ccdb-4fe0-ac1e-68cb2da614aa"
      },
      "outputs": [
        {
          "output_type": "execute_result",
          "data": {
            "text/plain": [
              "7"
            ]
          },
          "metadata": {},
          "execution_count": 25
        }
      ],
      "source": [
        "output_2"
      ]
    },
    {
      "cell_type": "markdown",
      "metadata": {
        "id": "sFzzw6uKeUFD"
      },
      "source": [
        "---\n",
        "\n",
        "###  Passing Parameters\n",
        "\n",
        "---"
      ]
    },
    {
      "cell_type": "code",
      "execution_count": 26,
      "metadata": {
        "id": "QZ10SqCxeUFE"
      },
      "outputs": [],
      "source": [
        "def welcome(name):\n",
        "    return \"Let's explore Python together, \" + name"
      ]
    },
    {
      "cell_type": "code",
      "execution_count": 27,
      "metadata": {
        "colab": {
          "base_uri": "https://localhost:8080/",
          "height": 35
        },
        "id": "6XWGEUF3eUFF",
        "outputId": "2a6b8d4f-6dbc-47af-eb52-f21c67f2f765"
      },
      "outputs": [
        {
          "output_type": "execute_result",
          "data": {
            "text/plain": [
              "\"Let's explore Python together, Ayten\""
            ],
            "application/vnd.google.colaboratory.intrinsic+json": {
              "type": "string"
            }
          },
          "metadata": {},
          "execution_count": 27
        }
      ],
      "source": [
        "welcome('Ayten')"
      ]
    },
    {
      "cell_type": "code",
      "execution_count": 28,
      "metadata": {
        "colab": {
          "base_uri": "https://localhost:8080/",
          "height": 35
        },
        "id": "579BAHFZeUFG",
        "outputId": "0e57378b-4c96-402c-d26c-ec268f72df65"
      },
      "outputs": [
        {
          "output_type": "execute_result",
          "data": {
            "text/plain": [
              "\"Let's explore Python together, User\""
            ],
            "application/vnd.google.colaboratory.intrinsic+json": {
              "type": "string"
            }
          },
          "metadata": {},
          "execution_count": 28
        }
      ],
      "source": [
        "welcome('User')"
      ]
    },
    {
      "cell_type": "markdown",
      "metadata": {
        "id": "zz4-W5KeeUFH"
      },
      "source": [
        "---\n",
        "\n",
        "***Default value of Parameters***\n",
        "\n",
        "\n",
        "---"
      ]
    },
    {
      "cell_type": "code",
      "execution_count": 29,
      "metadata": {
        "id": "EzmqYLf9eUFI"
      },
      "outputs": [],
      "source": [
        "def welcome(name = 'Aytan'):\n",
        "    return \"Let's explore Python together, \" + name"
      ]
    },
    {
      "cell_type": "code",
      "execution_count": 30,
      "metadata": {
        "colab": {
          "base_uri": "https://localhost:8080/",
          "height": 35
        },
        "id": "F4kMjMFJeUFJ",
        "outputId": "39c52afa-cbd4-4516-dcc9-f0c2d47a9e02"
      },
      "outputs": [
        {
          "output_type": "execute_result",
          "data": {
            "text/plain": [
              "\"Let's explore Python together, User\""
            ],
            "application/vnd.google.colaboratory.intrinsic+json": {
              "type": "string"
            }
          },
          "metadata": {},
          "execution_count": 30
        }
      ],
      "source": [
        "welcome(\"User\")"
      ]
    },
    {
      "cell_type": "code",
      "execution_count": 31,
      "metadata": {
        "colab": {
          "base_uri": "https://localhost:8080/",
          "height": 35
        },
        "id": "5ShKE9WgeUFK",
        "outputId": "d99f8f22-5f9f-40e4-e52d-3d836769b21b"
      },
      "outputs": [
        {
          "output_type": "execute_result",
          "data": {
            "text/plain": [
              "\"Let's explore Python together, Aytan\""
            ],
            "application/vnd.google.colaboratory.intrinsic+json": {
              "type": "string"
            }
          },
          "metadata": {},
          "execution_count": 31
        }
      ],
      "source": [
        "welcome()"
      ]
    },
    {
      "cell_type": "code",
      "execution_count": 32,
      "metadata": {
        "colab": {
          "base_uri": "https://localhost:8080/",
          "height": 35
        },
        "id": "70OpfGNReUFL",
        "outputId": "4448a90d-9bce-4a2c-e2a9-9059ca16bdb6"
      },
      "outputs": [
        {
          "output_type": "execute_result",
          "data": {
            "text/plain": [
              "\"Let's explore Python together, Anyone\""
            ],
            "application/vnd.google.colaboratory.intrinsic+json": {
              "type": "string"
            }
          },
          "metadata": {},
          "execution_count": 32
        }
      ],
      "source": [
        "name = \"Anyone\"\n",
        "welcome(name)"
      ]
    },
    {
      "cell_type": "markdown",
      "metadata": {
        "id": "hWpfIliaeUFL"
      },
      "source": [
        "---\n",
        "\n",
        "***`POSITIONAL ARGUMENTS`***\n",
        "\n",
        "***Most arguments are identified by their position in the function call. `print(a,b)` will give different results from `print(b,a)`***\n",
        "\n",
        "---"
      ]
    },
    {
      "cell_type": "code",
      "execution_count": 33,
      "metadata": {
        "id": "ahSRY_r4eUFM"
      },
      "outputs": [],
      "source": [
        "def math_functions(small_number, large_number):\n",
        "    \n",
        "    difference = large_number - small_number\n",
        "    return difference"
      ]
    },
    {
      "cell_type": "markdown",
      "metadata": {
        "id": "M-wd2Wy-eUFN"
      },
      "source": [
        "***If we define only the values of the arguments, the values will be assigned in position.***\n",
        "\n",
        "---"
      ]
    },
    {
      "cell_type": "code",
      "execution_count": 34,
      "metadata": {
        "colab": {
          "base_uri": "https://localhost:8080/"
        },
        "id": "MshIrKHYeUFO",
        "outputId": "f7ae788e-44a5-4c9e-d029-97563c8a3d65"
      },
      "outputs": [
        {
          "output_type": "execute_result",
          "data": {
            "text/plain": [
              "12"
            ]
          },
          "metadata": {},
          "execution_count": 34
        }
      ],
      "source": [
        "math_functions(4,16)"
      ]
    },
    {
      "cell_type": "code",
      "execution_count": 35,
      "metadata": {
        "colab": {
          "base_uri": "https://localhost:8080/"
        },
        "id": "Q5wtP-zreUFP",
        "outputId": "a943c111-b3ac-44fb-9adf-9684694475d2"
      },
      "outputs": [
        {
          "output_type": "execute_result",
          "data": {
            "text/plain": [
              "-12"
            ]
          },
          "metadata": {},
          "execution_count": 35
        }
      ],
      "source": [
        "math_functions(16,4)"
      ]
    },
    {
      "cell_type": "markdown",
      "metadata": {
        "id": "FGm2AdngeUFP"
      },
      "source": [
        "---\n",
        "\n",
        "***`KEYWORD ARGUMENTS`***\n",
        "\n",
        "---\n",
        "\n"
      ]
    },
    {
      "cell_type": "markdown",
      "metadata": {
        "id": "NLGXjkKBeUFP"
      },
      "source": [
        "***If we are defining the keywords, then we can define them in any order.***\n",
        "\n",
        "---"
      ]
    },
    {
      "cell_type": "code",
      "execution_count": 36,
      "metadata": {
        "colab": {
          "base_uri": "https://localhost:8080/"
        },
        "id": "ZrmefKbOeUFQ",
        "outputId": "5699c23c-9e04-432d-d1e3-f73049c249af"
      },
      "outputs": [
        {
          "output_type": "execute_result",
          "data": {
            "text/plain": [
              "12"
            ]
          },
          "metadata": {},
          "execution_count": 36
        }
      ],
      "source": [
        "math_functions(large_number = 16, small_number= 4)"
      ]
    },
    {
      "cell_type": "code",
      "execution_count": 37,
      "metadata": {
        "colab": {
          "base_uri": "https://localhost:8080/"
        },
        "id": "ikQ0Z-50eUFR",
        "outputId": "b25bcb62-474d-4057-f25b-bc0a41620f27"
      },
      "outputs": [
        {
          "output_type": "execute_result",
          "data": {
            "text/plain": [
              "12"
            ]
          },
          "metadata": {},
          "execution_count": 37
        }
      ],
      "source": [
        "math_functions(small_number = 4, large_number= 16)"
      ]
    },
    {
      "cell_type": "markdown",
      "metadata": {
        "id": "NRu7OFzCeUFR"
      },
      "source": [
        "***In Python, we cannot first define keyword argument and then positional arguments***\n",
        "\n",
        "---"
      ]
    },
    {
      "cell_type": "code",
      "execution_count": 38,
      "metadata": {
        "colab": {
          "base_uri": "https://localhost:8080/",
          "height": 130
        },
        "id": "8zW13eNLeUFS",
        "outputId": "4b8847fc-09c6-44ee-fa7a-d75e49d660a0"
      },
      "outputs": [
        {
          "output_type": "error",
          "ename": "SyntaxError",
          "evalue": "ignored",
          "traceback": [
            "\u001b[0;36m  File \u001b[0;32m\"<ipython-input-38-06259a40b1a4>\"\u001b[0;36m, line \u001b[0;32m1\u001b[0m\n\u001b[0;31m    math_functions(small_number= 4, 16)\u001b[0m\n\u001b[0m                                   ^\u001b[0m\n\u001b[0;31mSyntaxError\u001b[0m\u001b[0;31m:\u001b[0m positional argument follows keyword argument\n"
          ]
        }
      ],
      "source": [
        "math_functions(small_number= 4, 16)"
      ]
    },
    {
      "cell_type": "markdown",
      "metadata": {
        "id": "tzjuKQaDeUFS"
      },
      "source": [
        "***In Python, we always define positional arguments before the keyword arguments***\n",
        "\n",
        "---"
      ]
    },
    {
      "cell_type": "code",
      "execution_count": 39,
      "metadata": {
        "colab": {
          "base_uri": "https://localhost:8080/"
        },
        "id": "ojD7fCepeUFT",
        "outputId": "5359f102-da28-4434-86d0-b32f7638ca1e"
      },
      "outputs": [
        {
          "output_type": "execute_result",
          "data": {
            "text/plain": [
              "12"
            ]
          },
          "metadata": {},
          "execution_count": 39
        }
      ],
      "source": [
        "math_functions(4,large_number= 16)"
      ]
    },
    {
      "cell_type": "markdown",
      "metadata": {
        "id": "-cPrDa_xeUFU"
      },
      "source": [
        "---\n",
        "\n",
        "***VARIABLE LENGTH ARGUMENTS***\n",
        "\n",
        "- Sometimes, we need more flexibility while defining functions like we don't know in advance the fixed number of arguments. \n",
        "- Python allows us to make function calls with variable length arguments.\n",
        "\n",
        "---\n",
        "\n",
        "- In the argument use an **(*)** astrick sign before the argument. Let's see how to use in below example. "
      ]
    },
    {
      "cell_type": "code",
      "execution_count": 40,
      "metadata": {
        "id": "BNKnx0YZeUFV"
      },
      "outputs": [],
      "source": [
        "# define a function\n",
        "def my_function(*args):\n",
        "    \n",
        "    for i in args:\n",
        "        print(i)"
      ]
    },
    {
      "cell_type": "code",
      "execution_count": 41,
      "metadata": {
        "colab": {
          "base_uri": "https://localhost:8080/"
        },
        "id": "CCVtnQGHeUFW",
        "outputId": "486f627e-7fad-4050-8e4d-4f09cea88b6d"
      },
      "outputs": [
        {
          "output_type": "stream",
          "name": "stdout",
          "text": [
            "1\n",
            "2\n",
            "3\n",
            "4\n"
          ]
        }
      ],
      "source": [
        "my_function(1, 2, 3, 4)"
      ]
    },
    {
      "cell_type": "code",
      "execution_count": 42,
      "metadata": {
        "colab": {
          "base_uri": "https://localhost:8080/"
        },
        "id": "B7iTv0UseUFX",
        "outputId": "d1609c60-289a-4e31-8d54-c25147cf3896"
      },
      "outputs": [
        {
          "output_type": "stream",
          "name": "stdout",
          "text": [
            "1\n",
            "2\n"
          ]
        }
      ],
      "source": [
        "my_function(1,2)"
      ]
    },
    {
      "cell_type": "code",
      "execution_count": 44,
      "metadata": {
        "colab": {
          "base_uri": "https://localhost:8080/"
        },
        "id": "svn5bGvpeUFY",
        "outputId": "6ee76dd1-1924-400c-cb5b-6148442e0523"
      },
      "outputs": [
        {
          "output_type": "stream",
          "name": "stdout",
          "text": [
            "1\n",
            "2\n",
            "a\n",
            "ab\n",
            "abc\n"
          ]
        }
      ],
      "source": [
        "my_function('1', '2', 'a', 'ab', 'abc')"
      ]
    },
    {
      "cell_type": "markdown",
      "metadata": {
        "id": "Do1dWVo5eUFZ"
      },
      "source": [
        "#### If you have unknown number of keyword arguments, then you can use double asterick (**)\n",
        "\n",
        "---"
      ]
    },
    {
      "cell_type": "code",
      "execution_count": 45,
      "metadata": {
        "id": "NCiho8xweUFZ"
      },
      "outputs": [],
      "source": [
        "def my_keyword_arguments(**kwargs):\n",
        "    for key, value in kwargs.items():\n",
        "        print(key, value)"
      ]
    },
    {
      "cell_type": "code",
      "execution_count": 46,
      "metadata": {
        "colab": {
          "base_uri": "https://localhost:8080/"
        },
        "id": "KCZE8MezeUFa",
        "outputId": "6457d3bd-d73f-42d3-8ad1-7536998d0812"
      },
      "outputs": [
        {
          "output_type": "stream",
          "name": "stdout",
          "text": [
            "a 1\n",
            "b 2\n",
            "c 3\n",
            "d 4\n"
          ]
        }
      ],
      "source": [
        "my_keyword_arguments(a= 1, b= 2, c= 3, d= 4)"
      ]
    },
    {
      "cell_type": "code",
      "execution_count": 47,
      "metadata": {
        "colab": {
          "base_uri": "https://localhost:8080/"
        },
        "id": "NBS113DVeUFa",
        "outputId": "f5627841-d012-4e54-e669-37587a40b40e"
      },
      "outputs": [
        {
          "output_type": "stream",
          "name": "stdout",
          "text": [
            "x s\n",
            "y e\n"
          ]
        }
      ],
      "source": [
        "my_keyword_arguments(x='s',y='e')"
      ]
    },
    {
      "cell_type": "markdown",
      "metadata": {
        "id": "mwxDBZneeUFb"
      },
      "source": [
        "---\n",
        "\n",
        "***Scope of Variables: Local and Global Variables***\n",
        "\n",
        "---\n",
        "\n",
        "- **`\"Scope of Variable\"`** means that part of program where we can access the particular variable.\n",
        "- **`\"Local Variable\"`** are those which are defined inside the function and can be only accessed inside that particular function.\n",
        "- **`\"Global Variable\"`** are defined outside the function and can be accessed throughout the program.\n",
        " \n",
        "---\n",
        "\n",
        "\n",
        "***Let's define a global variable, `\"name\"` outside the function. We will return its value using a function `\"my_function\"` and see that we would be able to access its value using that function also.***\n",
        "\n",
        "---"
      ]
    },
    {
      "cell_type": "code",
      "execution_count": 48,
      "metadata": {
        "id": "y_pgnfY-eUFb"
      },
      "outputs": [],
      "source": [
        "# define a global variable\n",
        "name = \"variable outside function\" \n",
        "\n",
        "# define a function\n",
        "def my_function():\n",
        "    # access the variable outside the function\n",
        "    return name"
      ]
    },
    {
      "cell_type": "code",
      "execution_count": 49,
      "metadata": {
        "colab": {
          "base_uri": "https://localhost:8080/"
        },
        "id": "NLqNttFTeUFc",
        "outputId": "3cb07ddd-7619-4c68-cd70-f1b90acba5ed"
      },
      "outputs": [
        {
          "output_type": "stream",
          "name": "stdout",
          "text": [
            "variable outside function\n",
            "variable outside function\n"
          ]
        }
      ],
      "source": [
        "print(my_function())\n",
        "print(name)"
      ]
    },
    {
      "cell_type": "markdown",
      "metadata": {
        "id": "J2TaxuJeeUFc"
      },
      "source": [
        "***So, we were able to access the value of a global variable from inside the function. Let's see what will happen if we try to change the value of global variable inside the function***\n",
        "\n",
        "---"
      ]
    },
    {
      "cell_type": "code",
      "execution_count": 50,
      "metadata": {
        "id": "MUF50xLNeUFd"
      },
      "outputs": [],
      "source": [
        "# define a global variable\n",
        "name = \"variable outside function\"\n",
        "\n",
        "def my_function():\n",
        "    # try to change the value of global variable inside the function\n",
        "    name = \"variable inside function\"  \n",
        "    return name"
      ]
    },
    {
      "cell_type": "code",
      "execution_count": 51,
      "metadata": {
        "colab": {
          "base_uri": "https://localhost:8080/"
        },
        "id": "h35jLtwOeUFd",
        "outputId": "6411fa4a-77f1-403b-f8c7-3e93d915c589"
      },
      "outputs": [
        {
          "output_type": "stream",
          "name": "stdout",
          "text": [
            "variable inside function\n",
            "variable outside function\n"
          ]
        }
      ],
      "source": [
        "print(my_function())\n",
        "print(name)"
      ]
    },
    {
      "cell_type": "markdown",
      "metadata": {
        "id": "HtPmcEULeUFd"
      },
      "source": [
        "---\n",
        "\n",
        "* ***So, here when we tried to change the value of the variable `\"name\"` inside the function then instead of updating its value, python created another variable `(\"another local variable\")` whose scope was only limited to the function itself.***\n",
        "* ***When we called the function, it returned the value of the local variable whereas when we directly accessed the `\"name\"` variable, it returned the value of the global variable.***\n",
        "\n",
        "---\n",
        "\n",
        "#### `LET'S SEE HOW CAN WE UPDATE THE VALUE OF THE GLOBAL VARIABLE INSIDE ANY USER-DEFINED FUNCTION.`\n",
        "\n",
        "\n",
        "---\n",
        "***`global` keyword***\n",
        "\n",
        "---"
      ]
    },
    {
      "cell_type": "code",
      "execution_count": 52,
      "metadata": {
        "id": "q8XYxzK2eUFe"
      },
      "outputs": [],
      "source": [
        "# define a global variable\n",
        "name = \"variable outside function\"\n",
        "\n",
        "def my_function():\n",
        "    # tell the function which variables are global\n",
        "    global name\n",
        "    name = \"variable inside function\"  \n",
        "    return name"
      ]
    },
    {
      "cell_type": "code",
      "execution_count": 53,
      "metadata": {
        "colab": {
          "base_uri": "https://localhost:8080/",
          "height": 35
        },
        "id": "Yy0S1bcBeUFe",
        "outputId": "6971574b-597f-4f8a-e7f1-944998a07462"
      },
      "outputs": [
        {
          "output_type": "execute_result",
          "data": {
            "text/plain": [
              "'variable inside function'"
            ],
            "application/vnd.google.colaboratory.intrinsic+json": {
              "type": "string"
            }
          },
          "metadata": {},
          "execution_count": 53
        }
      ],
      "source": [
        "my_function()"
      ]
    },
    {
      "cell_type": "code",
      "execution_count": 54,
      "metadata": {
        "colab": {
          "base_uri": "https://localhost:8080/",
          "height": 35
        },
        "id": "d13ZxpaEeUFf",
        "outputId": "416870ad-70dc-451d-d69b-41cd4c798493"
      },
      "outputs": [
        {
          "output_type": "execute_result",
          "data": {
            "text/plain": [
              "'variable inside function'"
            ],
            "application/vnd.google.colaboratory.intrinsic+json": {
              "type": "string"
            }
          },
          "metadata": {},
          "execution_count": 54
        }
      ],
      "source": [
        "name"
      ]
    },
    {
      "cell_type": "markdown",
      "metadata": {
        "id": "KiOY7ckCeUFf"
      },
      "source": [
        "***While defining a function, we can tell the function that these `variables are global` using the `global` keyword.***\n",
        "\n",
        "\n",
        "---"
      ]
    }
  ],
  "metadata": {
    "kernelspec": {
      "display_name": "Python 3",
      "language": "python",
      "name": "python3"
    },
    "language_info": {
      "codemirror_mode": {
        "name": "ipython",
        "version": 3
      },
      "file_extension": ".py",
      "mimetype": "text/x-python",
      "name": "python",
      "nbconvert_exporter": "python",
      "pygments_lexer": "ipython3",
      "version": "3.7.4"
    },
    "colab": {
      "name": "Functions.ipynb",
      "provenance": [],
      "collapsed_sections": [],
      "include_colab_link": true
    }
  },
  "nbformat": 4,
  "nbformat_minor": 0
}