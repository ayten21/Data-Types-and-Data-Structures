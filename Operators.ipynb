{
  "cells": [
    {
      "cell_type": "markdown",
      "metadata": {
        "id": "view-in-github",
        "colab_type": "text"
      },
      "source": [
        "<a href=\"https://colab.research.google.com/github/ayten21/Explore-Python/blob/main/Operators.ipynb\" target=\"_parent\"><img src=\"https://colab.research.google.com/assets/colab-badge.svg\" alt=\"Open In Colab\"/></a>"
      ]
    },
    {
      "cell_type": "markdown",
      "metadata": {
        "id": "-RtiQ7V57-mF"
      },
      "source": [
        "\n",
        "---\n",
        "---\n",
        "\n",
        "<center><h1> Theory of Operators  </h1> </center>\n",
        "\n",
        "\n",
        "* ***Arithmetic operators***  \n",
        "\n",
        "* ***Comparison operators***\n",
        "\n",
        "* ***Logical operators***\n",
        "\n",
        " \n",
        "\n",
        "---\n",
        "\n",
        "---"
      ]
    },
    {
      "cell_type": "markdown",
      "metadata": {
        "id": "otjwlVS97-mX"
      },
      "source": [
        "***Let's initialize a few variables***\n",
        "\n",
        "---"
      ]
    },
    {
      "cell_type": "code",
      "execution_count": 1,
      "metadata": {
        "id": "1oGG886Q7-mY"
      },
      "outputs": [],
      "source": [
        "a = 15      # int\n",
        "b = 8       # int\n",
        "c = 15.5    # float\n",
        "s = 'Hello' # String"
      ]
    },
    {
      "cell_type": "markdown",
      "metadata": {
        "id": "VH-iDRCB7-mb"
      },
      "source": [
        "---\n",
        "\n",
        "### ***Arithmetic Operator*** \n",
        "\n",
        "\n",
        " * '+' Addition  \n",
        " * '-'  Subtraction\n",
        " * '*'  Multiplication\n",
        " * '/'   Division\n",
        " * '%'  Modulus\n",
        " * '**' Exponential\n",
        " * '//' Floor Division\n",
        " \n",
        "---"
      ]
    },
    {
      "cell_type": "markdown",
      "metadata": {
        "id": "-Z2yAz447-mc"
      },
      "source": [
        "***`Addition and subtraction:`***\n",
        "\n",
        "---"
      ]
    },
    {
      "cell_type": "code",
      "execution_count": null,
      "metadata": {
        "id": "YIBORXyf7-md"
      },
      "outputs": [],
      "source": [
        "a+b"
      ]
    },
    {
      "cell_type": "code",
      "execution_count": null,
      "metadata": {
        "id": "69Ps6B_47-mf"
      },
      "outputs": [],
      "source": [
        "b-a"
      ]
    },
    {
      "cell_type": "markdown",
      "metadata": {
        "id": "Xiz7m4at7-mg"
      },
      "source": [
        "***`Division and multiplication:`***\n",
        "\n",
        "---"
      ]
    },
    {
      "cell_type": "code",
      "execution_count": null,
      "metadata": {
        "id": "BjJb9D7f7-mh"
      },
      "outputs": [],
      "source": [
        "a/b "
      ]
    },
    {
      "cell_type": "code",
      "execution_count": null,
      "metadata": {
        "id": "bDV5u67R7-mi"
      },
      "outputs": [],
      "source": [
        "a*b"
      ]
    },
    {
      "cell_type": "markdown",
      "metadata": {
        "id": "VH4QDXgo7-mj"
      },
      "source": [
        "***`Exponential:`***\n",
        "\n",
        "---"
      ]
    },
    {
      "cell_type": "code",
      "execution_count": null,
      "metadata": {
        "id": "odlkoszs7-mk"
      },
      "outputs": [],
      "source": [
        "2**3"
      ]
    },
    {
      "cell_type": "markdown",
      "metadata": {
        "id": "PQ3_Xa6d7-ml"
      },
      "source": [
        "***`Floor division and modulo:`***\n",
        "\n",
        "---"
      ]
    },
    {
      "cell_type": "code",
      "execution_count": null,
      "metadata": {
        "id": "nG6BKpt47-mm"
      },
      "outputs": [],
      "source": [
        "a//b"
      ]
    },
    {
      "cell_type": "code",
      "execution_count": null,
      "metadata": {
        "id": "SrPsMZw_7-mm"
      },
      "outputs": [],
      "source": [
        "a%b"
      ]
    },
    {
      "cell_type": "markdown",
      "metadata": {
        "id": "YhPCtBxc7-mn"
      },
      "source": [
        "Floor division and modulus seems a little confusing at first, but look at the example above. 15//8 tells us that, there is one whole 8 in 15. If will 16, then the result will be 2. And the modulus shows us that 7 out of 15 are left after 8 is fully settled."
      ]
    },
    {
      "cell_type": "markdown",
      "metadata": {
        "id": "sLouLPPx7-mo"
      },
      "source": [
        "---\n",
        "### ***`Comparison operators:`***\n",
        "\n",
        " * '=='\tEqual\t\n",
        " * '!='\tNot equal\t\t\n",
        " * '>'\tGreater than\t\n",
        " * '<'\tLess than\t\t\n",
        " * '>='\tGreater than or equal to\t\t\n",
        " * '<='\tLess than or equal to\t\t\n",
        "\n",
        "---"
      ]
    },
    {
      "cell_type": "code",
      "execution_count": null,
      "metadata": {
        "id": "GmUYdu-O7-mp"
      },
      "outputs": [],
      "source": [
        "a==b"
      ]
    },
    {
      "cell_type": "code",
      "execution_count": null,
      "metadata": {
        "id": "zKEJwtFu7-mq"
      },
      "outputs": [],
      "source": [
        "a != b"
      ]
    },
    {
      "cell_type": "code",
      "execution_count": null,
      "metadata": {
        "id": "YwJKgQVL7-mr"
      },
      "outputs": [],
      "source": [
        "a == 51"
      ]
    },
    {
      "cell_type": "code",
      "execution_count": null,
      "metadata": {
        "id": "p1YMeA2k7-mt"
      },
      "outputs": [],
      "source": [
        "type(a == b)"
      ]
    },
    {
      "cell_type": "code",
      "execution_count": null,
      "metadata": {
        "id": "GlaYVlRq7-mt"
      },
      "outputs": [],
      "source": [
        "a>b"
      ]
    },
    {
      "cell_type": "code",
      "execution_count": null,
      "metadata": {
        "id": "oCMy7h__7-mu"
      },
      "outputs": [],
      "source": [
        "a < b"
      ]
    },
    {
      "cell_type": "code",
      "execution_count": null,
      "metadata": {
        "id": "CzJ83e3h7-mv"
      },
      "outputs": [],
      "source": [
        "a>51"
      ]
    },
    {
      "cell_type": "code",
      "execution_count": null,
      "metadata": {
        "id": "jDy5Ig-Q7-mw"
      },
      "outputs": [],
      "source": [
        "a>=51"
      ]
    },
    {
      "cell_type": "markdown",
      "metadata": {
        "id": "fDMQqkhL7-mx"
      },
      "source": [
        "---\n",
        "\n",
        "### Logical Operator:\n",
        "\n",
        " * and\n",
        " * or\n",
        " * not\n",
        " \n",
        "---\n",
        "\n"
      ]
    },
    {
      "cell_type": "code",
      "execution_count": null,
      "metadata": {
        "id": "Krfl3iZg7-my"
      },
      "outputs": [],
      "source": [
        "(1 == 1) and (2 == 2)"
      ]
    },
    {
      "cell_type": "code",
      "execution_count": null,
      "metadata": {
        "id": "cVdRD5mN7-my"
      },
      "outputs": [],
      "source": [
        "(1 == 1) or (3 == 4)"
      ]
    },
    {
      "cell_type": "code",
      "execution_count": null,
      "metadata": {
        "id": "Y2F6tpvq7-mz"
      },
      "outputs": [],
      "source": [
        "(1 <= 2) or ((2 > 3) or (4 == 4))"
      ]
    }
  ],
  "metadata": {
    "kernelspec": {
      "display_name": "Python 3",
      "language": "python",
      "name": "python3"
    },
    "language_info": {
      "codemirror_mode": {
        "name": "ipython",
        "version": 3
      },
      "file_extension": ".py",
      "mimetype": "text/x-python",
      "name": "python",
      "nbconvert_exporter": "python",
      "pygments_lexer": "ipython3",
      "version": "3.7.3"
    },
    "colab": {
      "name": "Operators.ipynb",
      "provenance": [],
      "include_colab_link": true
    }
  },
  "nbformat": 4,
  "nbformat_minor": 0
}