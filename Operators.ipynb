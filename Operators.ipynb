{
  "cells": [
    {
      "cell_type": "markdown",
      "metadata": {
        "id": "view-in-github",
        "colab_type": "text"
      },
      "source": [
        "<a href=\"https://colab.research.google.com/github/ayten21/Explore-Python/blob/main/Operators.ipynb\" target=\"_parent\"><img src=\"https://colab.research.google.com/assets/colab-badge.svg\" alt=\"Open In Colab\"/></a>"
      ]
    },
    {
      "cell_type": "markdown",
      "metadata": {
        "id": "-RtiQ7V57-mF"
      },
      "source": [
        "\n",
        "---\n",
        "---\n",
        "\n",
        "<center><h1> Theory of Operators  </h1> </center>\n",
        "\n",
        "\n",
        "* ***Arithmetic operators***  \n",
        "\n",
        "* ***Comparison operators***\n",
        "\n",
        "* ***Logical operators***\n",
        "\n",
        " \n",
        "\n",
        "---\n",
        "\n",
        "---"
      ]
    },
    {
      "cell_type": "markdown",
      "metadata": {
        "id": "otjwlVS97-mX"
      },
      "source": [
        "***Let's initialize a few variables***\n",
        "\n",
        "---"
      ]
    },
    {
      "cell_type": "code",
      "execution_count": 1,
      "metadata": {
        "id": "1oGG886Q7-mY"
      },
      "outputs": [],
      "source": [
        "a = 15      # int\n",
        "b = 8       # int\n",
        "c = 15.5    # float\n",
        "s = 'Hello' # String"
      ]
    },
    {
      "cell_type": "markdown",
      "metadata": {
        "id": "VH-iDRCB7-mb"
      },
      "source": [
        "---\n",
        "\n",
        "### ***Arithmetic Operator*** \n",
        "\n",
        "\n",
        " * '+' Addition  \n",
        " * '-'  Subtraction\n",
        " * '*'  Multiplication\n",
        " * '/'   Division\n",
        " * '%'  Modulus\n",
        " * '**' Exponential\n",
        " * '//' Floor Division\n",
        " \n",
        "---"
      ]
    },
    {
      "cell_type": "markdown",
      "metadata": {
        "id": "-Z2yAz447-mc"
      },
      "source": [
        "***`Addition and subtraction:`***\n",
        "\n",
        "---"
      ]
    },
    {
      "cell_type": "code",
      "execution_count": 2,
      "metadata": {
        "colab": {
          "base_uri": "https://localhost:8080/"
        },
        "id": "YIBORXyf7-md",
        "outputId": "4dbba067-8492-4f33-eb51-04295a91df6e"
      },
      "outputs": [
        {
          "output_type": "execute_result",
          "data": {
            "text/plain": [
              "23"
            ]
          },
          "metadata": {},
          "execution_count": 2
        }
      ],
      "source": [
        "a+b"
      ]
    },
    {
      "cell_type": "code",
      "execution_count": 3,
      "metadata": {
        "colab": {
          "base_uri": "https://localhost:8080/"
        },
        "id": "69Ps6B_47-mf",
        "outputId": "771b559b-b435-4f20-ae7c-6dee69408c20"
      },
      "outputs": [
        {
          "output_type": "execute_result",
          "data": {
            "text/plain": [
              "-7"
            ]
          },
          "metadata": {},
          "execution_count": 3
        }
      ],
      "source": [
        "b-a"
      ]
    },
    {
      "cell_type": "markdown",
      "metadata": {
        "id": "Xiz7m4at7-mg"
      },
      "source": [
        "***`Division and multiplication:`***\n",
        "\n",
        "---"
      ]
    },
    {
      "cell_type": "code",
      "execution_count": null,
      "metadata": {
        "id": "BjJb9D7f7-mh"
      },
      "outputs": [],
      "source": [
        "a/b "
      ]
    },
    {
      "cell_type": "code",
      "execution_count": null,
      "metadata": {
        "id": "bDV5u67R7-mi"
      },
      "outputs": [],
      "source": [
        "a*b"
      ]
    },
    {
      "cell_type": "markdown",
      "metadata": {
        "id": "VH4QDXgo7-mj"
      },
      "source": [
        "***`Exponential:`***\n",
        "\n",
        "---"
      ]
    },
    {
      "cell_type": "code",
      "execution_count": null,
      "metadata": {
        "id": "odlkoszs7-mk"
      },
      "outputs": [],
      "source": [
        "2**3"
      ]
    },
    {
      "cell_type": "markdown",
      "metadata": {
        "id": "PQ3_Xa6d7-ml"
      },
      "source": [
        "***`Floor division and modulo:`***\n",
        "\n",
        "---"
      ]
    },
    {
      "cell_type": "code",
      "execution_count": 4,
      "metadata": {
        "colab": {
          "base_uri": "https://localhost:8080/"
        },
        "id": "nG6BKpt47-mm",
        "outputId": "ba12b70c-320e-4a79-e202-3e5780631e1f"
      },
      "outputs": [
        {
          "output_type": "execute_result",
          "data": {
            "text/plain": [
              "1"
            ]
          },
          "metadata": {},
          "execution_count": 4
        }
      ],
      "source": [
        "a//b"
      ]
    },
    {
      "cell_type": "code",
      "execution_count": 5,
      "metadata": {
        "colab": {
          "base_uri": "https://localhost:8080/"
        },
        "id": "SrPsMZw_7-mm",
        "outputId": "7563d1f3-9dbc-4d95-d989-e9711964cf87"
      },
      "outputs": [
        {
          "output_type": "execute_result",
          "data": {
            "text/plain": [
              "7"
            ]
          },
          "metadata": {},
          "execution_count": 5
        }
      ],
      "source": [
        "a%b"
      ]
    },
    {
      "cell_type": "markdown",
      "metadata": {
        "id": "YhPCtBxc7-mn"
      },
      "source": [
        "Floor division and modulus seems a little confusing at first, but look at the example above. 15//8 tells us that, there is one whole 8 in 15. If will 16, then the result will be 2. And the modulus shows us that 7 out of 15 are left after 8 is fully settled."
      ]
    },
    {
      "cell_type": "markdown",
      "metadata": {
        "id": "sLouLPPx7-mo"
      },
      "source": [
        "---\n",
        "### ***`Comparison operators:`***\n",
        "\n",
        " * '=='\tEqual\t\n",
        " * '!='\tNot equal\t\t\n",
        " * '>'\tGreater than\t\n",
        " * '<'\tLess than\t\t\n",
        " * '>='\tGreater than or equal to\t\t\n",
        " * '<='\tLess than or equal to\t\t\n",
        "\n",
        "---"
      ]
    },
    {
      "cell_type": "code",
      "execution_count": null,
      "metadata": {
        "id": "GmUYdu-O7-mp",
        "outputId": "9bc02669-0476-4e6a-cfa8-d6f3c0192783"
      },
      "outputs": [
        {
          "data": {
            "text/plain": [
              "False"
            ]
          },
          "execution_count": 49,
          "metadata": {},
          "output_type": "execute_result"
        }
      ],
      "source": [
        "a==b"
      ]
    },
    {
      "cell_type": "code",
      "execution_count": null,
      "metadata": {
        "id": "zKEJwtFu7-mq",
        "outputId": "424a9697-c517-4adf-93d3-7d90a8d64c34"
      },
      "outputs": [
        {
          "data": {
            "text/plain": [
              "True"
            ]
          },
          "execution_count": 50,
          "metadata": {},
          "output_type": "execute_result"
        }
      ],
      "source": [
        "a != b"
      ]
    },
    {
      "cell_type": "code",
      "execution_count": null,
      "metadata": {
        "id": "YwJKgQVL7-mr",
        "outputId": "f246d0a4-31f6-4bf3-adc7-4df267c73152"
      },
      "outputs": [
        {
          "data": {
            "text/plain": [
              "False"
            ]
          },
          "execution_count": 51,
          "metadata": {},
          "output_type": "execute_result"
        }
      ],
      "source": [
        "a == 51"
      ]
    },
    {
      "cell_type": "code",
      "execution_count": null,
      "metadata": {
        "id": "p1YMeA2k7-mt",
        "outputId": "d066f319-e236-4287-aa25-f622c5e6bcdb"
      },
      "outputs": [
        {
          "data": {
            "text/plain": [
              "bool"
            ]
          },
          "execution_count": 52,
          "metadata": {},
          "output_type": "execute_result"
        }
      ],
      "source": [
        "type(a == b)"
      ]
    },
    {
      "cell_type": "code",
      "execution_count": null,
      "metadata": {
        "id": "GlaYVlRq7-mt",
        "outputId": "1159d22f-f350-480d-a933-c2081b15b8a1"
      },
      "outputs": [
        {
          "data": {
            "text/plain": [
              "True"
            ]
          },
          "execution_count": 53,
          "metadata": {},
          "output_type": "execute_result"
        }
      ],
      "source": [
        "a>b"
      ]
    },
    {
      "cell_type": "code",
      "execution_count": null,
      "metadata": {
        "id": "oCMy7h__7-mu",
        "outputId": "8be1c1f1-d43b-46bb-d97c-ef9fe98d131f"
      },
      "outputs": [
        {
          "data": {
            "text/plain": [
              "False"
            ]
          },
          "execution_count": 54,
          "metadata": {},
          "output_type": "execute_result"
        }
      ],
      "source": [
        "a < b"
      ]
    },
    {
      "cell_type": "code",
      "execution_count": null,
      "metadata": {
        "id": "CzJ83e3h7-mv",
        "outputId": "3ba41c63-1470-47bb-ccb6-36a7a63b9339"
      },
      "outputs": [
        {
          "data": {
            "text/plain": [
              "False"
            ]
          },
          "execution_count": 55,
          "metadata": {},
          "output_type": "execute_result"
        }
      ],
      "source": [
        "a>51"
      ]
    },
    {
      "cell_type": "code",
      "execution_count": null,
      "metadata": {
        "id": "jDy5Ig-Q7-mw",
        "outputId": "1c8ba209-dedd-459e-dbdd-63a90c6e4821"
      },
      "outputs": [
        {
          "data": {
            "text/plain": [
              "False"
            ]
          },
          "execution_count": 56,
          "metadata": {},
          "output_type": "execute_result"
        }
      ],
      "source": [
        "a>=51"
      ]
    },
    {
      "cell_type": "markdown",
      "metadata": {
        "id": "fDMQqkhL7-mx"
      },
      "source": [
        "---\n",
        "\n",
        "### Logical Operator:\n",
        "\n",
        " * and\n",
        " * or\n",
        " * not\n",
        " \n",
        "---\n",
        "\n"
      ]
    },
    {
      "cell_type": "code",
      "execution_count": null,
      "metadata": {
        "id": "Krfl3iZg7-my",
        "outputId": "61930dcf-5b28-47c0-f1ec-de282303550f"
      },
      "outputs": [
        {
          "data": {
            "text/plain": [
              "True"
            ]
          },
          "execution_count": 57,
          "metadata": {},
          "output_type": "execute_result"
        }
      ],
      "source": [
        "(1 == 1) and (2 == 2)"
      ]
    },
    {
      "cell_type": "code",
      "execution_count": null,
      "metadata": {
        "id": "cVdRD5mN7-my",
        "outputId": "374de3f0-2519-4e36-aa31-f5a485880d80"
      },
      "outputs": [
        {
          "data": {
            "text/plain": [
              "True"
            ]
          },
          "execution_count": 58,
          "metadata": {},
          "output_type": "execute_result"
        }
      ],
      "source": [
        "(1 == 1) or (3 == 4)"
      ]
    },
    {
      "cell_type": "code",
      "execution_count": null,
      "metadata": {
        "id": "Y2F6tpvq7-mz",
        "outputId": "f406f7f3-65d2-4641-e448-b3ed35bae8d8"
      },
      "outputs": [
        {
          "data": {
            "text/plain": [
              "True"
            ]
          },
          "execution_count": 59,
          "metadata": {},
          "output_type": "execute_result"
        }
      ],
      "source": [
        "(1 <= 2) or ((2 > 3) or (4 == 4))"
      ]
    }
  ],
  "metadata": {
    "kernelspec": {
      "display_name": "Python 3",
      "language": "python",
      "name": "python3"
    },
    "language_info": {
      "codemirror_mode": {
        "name": "ipython",
        "version": 3
      },
      "file_extension": ".py",
      "mimetype": "text/x-python",
      "name": "python",
      "nbconvert_exporter": "python",
      "pygments_lexer": "ipython3",
      "version": "3.7.3"
    },
    "colab": {
      "name": "Operators.ipynb",
      "provenance": [],
      "include_colab_link": true
    }
  },
  "nbformat": 4,
  "nbformat_minor": 0
}