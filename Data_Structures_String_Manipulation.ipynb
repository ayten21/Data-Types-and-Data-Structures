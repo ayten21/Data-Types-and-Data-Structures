{
  "cells": [
    {
      "cell_type": "markdown",
      "metadata": {
        "id": "view-in-github",
        "colab_type": "text"
      },
      "source": [
        "<a href=\"https://colab.research.google.com/github/ayten21/Explore-Python/blob/main/Data_Structures_String_Manipulation.ipynb\" target=\"_parent\"><img src=\"https://colab.research.google.com/assets/colab-badge.svg\" alt=\"Open In Colab\"/></a>"
      ]
    },
    {
      "cell_type": "markdown",
      "metadata": {
        "id": "LmGx9rirdYiR"
      },
      "source": [
        "---\n",
        "---\n",
        "\n",
        "<center><h1>String Manipulation </h1></center>\n",
        "\n",
        "---"
      ]
    },
    {
      "cell_type": "markdown",
      "metadata": {
        "id": "z_iaAKxSdYir"
      },
      "source": [
        "***Define a string***\n",
        "\n",
        "---"
      ]
    },
    {
      "cell_type": "code",
      "execution_count": 1,
      "metadata": {
        "id": "7dfTN3tbdYis"
      },
      "outputs": [],
      "source": [
        "my_string = \"Python is one of the simplest and most convenient programming languages in terms of syntax\""
      ]
    },
    {
      "cell_type": "markdown",
      "metadata": {
        "id": "L7ERbxOldYiw"
      },
      "source": [
        "***Length of the string***\n",
        "\n",
        "---"
      ]
    },
    {
      "cell_type": "code",
      "execution_count": 2,
      "metadata": {
        "colab": {
          "base_uri": "https://localhost:8080/"
        },
        "id": "8JLXh6KedYiw",
        "outputId": "d4635b50-2878-417e-8a62-fb0c388b4995"
      },
      "outputs": [
        {
          "output_type": "execute_result",
          "data": {
            "text/plain": [
              "90"
            ]
          },
          "metadata": {},
          "execution_count": 2
        }
      ],
      "source": [
        "len(my_string)"
      ]
    },
    {
      "cell_type": "markdown",
      "metadata": {
        "id": "QrLcFKVUdYiy"
      },
      "source": [
        "***Access characters in a string***\n",
        "\n",
        "---"
      ]
    },
    {
      "cell_type": "code",
      "execution_count": 3,
      "metadata": {
        "colab": {
          "base_uri": "https://localhost:8080/",
          "height": 35
        },
        "id": "cJKVnYiZdYiz",
        "outputId": "f6bebdc9-1c7c-4ce2-834a-1621f09b5bde"
      },
      "outputs": [
        {
          "output_type": "execute_result",
          "data": {
            "text/plain": [
              "'P'"
            ],
            "application/vnd.google.colaboratory.intrinsic+json": {
              "type": "string"
            }
          },
          "metadata": {},
          "execution_count": 3
        }
      ],
      "source": [
        "my_string[0]"
      ]
    },
    {
      "cell_type": "code",
      "execution_count": 4,
      "metadata": {
        "colab": {
          "base_uri": "https://localhost:8080/",
          "height": 35
        },
        "id": "zbWlmypydYi0",
        "outputId": "2c304388-1a10-4df3-ca5b-438f5cf2779f"
      },
      "outputs": [
        {
          "output_type": "execute_result",
          "data": {
            "text/plain": [
              "'h'"
            ],
            "application/vnd.google.colaboratory.intrinsic+json": {
              "type": "string"
            }
          },
          "metadata": {},
          "execution_count": 4
        }
      ],
      "source": [
        "my_string[3]"
      ]
    },
    {
      "cell_type": "markdown",
      "metadata": {
        "id": "TAurbePOdYi1"
      },
      "source": [
        "***Access characters with negative indexing***\n",
        "\n",
        "---"
      ]
    },
    {
      "cell_type": "code",
      "execution_count": 5,
      "metadata": {
        "scrolled": true,
        "colab": {
          "base_uri": "https://localhost:8080/",
          "height": 35
        },
        "id": "KeavWMjFdYi2",
        "outputId": "4045190c-0f63-45be-fef1-5f53c80bae9b"
      },
      "outputs": [
        {
          "output_type": "execute_result",
          "data": {
            "text/plain": [
              "'x'"
            ],
            "application/vnd.google.colaboratory.intrinsic+json": {
              "type": "string"
            }
          },
          "metadata": {},
          "execution_count": 5
        }
      ],
      "source": [
        "my_string[-1]"
      ]
    },
    {
      "cell_type": "markdown",
      "metadata": {
        "id": "dMqURKM9dYi3"
      },
      "source": [
        "***String Slicing***\n",
        "\n",
        "---"
      ]
    },
    {
      "cell_type": "code",
      "execution_count": 6,
      "metadata": {
        "colab": {
          "base_uri": "https://localhost:8080/",
          "height": 35
        },
        "id": "1egNiI5TdYi4",
        "outputId": "9029398f-f667-4045-a48a-648d45dd149f"
      },
      "outputs": [
        {
          "output_type": "execute_result",
          "data": {
            "text/plain": [
              "'yt'"
            ],
            "application/vnd.google.colaboratory.intrinsic+json": {
              "type": "string"
            }
          },
          "metadata": {},
          "execution_count": 6
        }
      ],
      "source": [
        "my_string[1:3]"
      ]
    },
    {
      "cell_type": "code",
      "execution_count": 7,
      "metadata": {
        "colab": {
          "base_uri": "https://localhost:8080/",
          "height": 35
        },
        "id": "KG-FAGwRdYi4",
        "outputId": "91ad62fd-9e80-4807-9cbe-efbc05ee331a"
      },
      "outputs": [
        {
          "output_type": "execute_result",
          "data": {
            "text/plain": [
              "'one of the simplest and most convenient programming languages in terms'"
            ],
            "application/vnd.google.colaboratory.intrinsic+json": {
              "type": "string"
            }
          },
          "metadata": {},
          "execution_count": 7
        }
      ],
      "source": [
        "my_string[10:-10]"
      ]
    },
    {
      "cell_type": "code",
      "execution_count": 8,
      "metadata": {
        "colab": {
          "base_uri": "https://localhost:8080/",
          "height": 35
        },
        "id": "0_2ur4oSdYi5",
        "outputId": "6405a7d1-070d-4021-f3f8-eaed2eb1e4ba"
      },
      "outputs": [
        {
          "output_type": "execute_result",
          "data": {
            "text/plain": [
              "'xatnys fo smret ni segaugnal gnimmargorp tneinevnoc tsom dna tselpmis eht fo eno si nohtyP'"
            ],
            "application/vnd.google.colaboratory.intrinsic+json": {
              "type": "string"
            }
          },
          "metadata": {},
          "execution_count": 8
        }
      ],
      "source": [
        "# reverse a string\n",
        "\n",
        "my_string[::-1]"
      ]
    },
    {
      "cell_type": "markdown",
      "metadata": {
        "id": "U1C7sngPdYi6"
      },
      "source": [
        "***Count of a particular `character` or a `sub-string` in a string.***\n",
        "\n",
        "---"
      ]
    },
    {
      "cell_type": "code",
      "execution_count": 9,
      "metadata": {
        "colab": {
          "base_uri": "https://localhost:8080/",
          "height": 35
        },
        "id": "XpKKIE02dYi7",
        "outputId": "c4b9808a-e546-49c1-ac38-765576215dc2"
      },
      "outputs": [
        {
          "output_type": "execute_result",
          "data": {
            "text/plain": [
              "'Python is one of the simplest and most convenient programming languages in terms of syntax'"
            ],
            "application/vnd.google.colaboratory.intrinsic+json": {
              "type": "string"
            }
          },
          "metadata": {},
          "execution_count": 9
        }
      ],
      "source": [
        "my_string"
      ]
    },
    {
      "cell_type": "code",
      "execution_count": 10,
      "metadata": {
        "colab": {
          "base_uri": "https://localhost:8080/"
        },
        "id": "_TRY32GxdYi8",
        "outputId": "fdb14ab2-28ef-4cee-ad37-e638d70e176c"
      },
      "outputs": [
        {
          "output_type": "execute_result",
          "data": {
            "text/plain": [
              "5"
            ]
          },
          "metadata": {},
          "execution_count": 10
        }
      ],
      "source": [
        "my_string.count('a')"
      ]
    },
    {
      "cell_type": "code",
      "execution_count": 11,
      "metadata": {
        "colab": {
          "base_uri": "https://localhost:8080/"
        },
        "id": "pMve3HgIdYi9",
        "outputId": "333ab939-6b48-42fe-dd37-70f6ee6cda2c"
      },
      "outputs": [
        {
          "output_type": "execute_result",
          "data": {
            "text/plain": [
              "0"
            ]
          },
          "metadata": {},
          "execution_count": 11
        }
      ],
      "source": [
        "my_string.count('A')"
      ]
    },
    {
      "cell_type": "code",
      "execution_count": 12,
      "metadata": {
        "colab": {
          "base_uri": "https://localhost:8080/",
          "height": 35
        },
        "id": "2EQhUXwFdYjA",
        "outputId": "a3fc97d2-8070-401e-dfb2-cbfd3e0af34b"
      },
      "outputs": [
        {
          "output_type": "execute_result",
          "data": {
            "text/plain": [
              "'one of the simplest and most convenient programming languages in terms'"
            ],
            "application/vnd.google.colaboratory.intrinsic+json": {
              "type": "string"
            }
          },
          "metadata": {},
          "execution_count": 12
        }
      ],
      "source": [
        "my_string[10:-10]"
      ]
    },
    {
      "cell_type": "code",
      "execution_count": 13,
      "metadata": {
        "colab": {
          "base_uri": "https://localhost:8080/"
        },
        "id": "8GroHJYWdYjD",
        "outputId": "fecc5175-d0e1-4c88-dbe0-6b89e8933ea4"
      },
      "outputs": [
        {
          "output_type": "execute_result",
          "data": {
            "text/plain": [
              "4"
            ]
          },
          "metadata": {},
          "execution_count": 13
        }
      ],
      "source": [
        "my_string[10:-10].count('a')"
      ]
    },
    {
      "cell_type": "code",
      "execution_count": 14,
      "metadata": {
        "colab": {
          "base_uri": "https://localhost:8080/"
        },
        "id": "7xlRuvWadYjE",
        "outputId": "a3565e4a-2cbc-4504-b85d-2bac1c25814e"
      },
      "outputs": [
        {
          "output_type": "execute_result",
          "data": {
            "text/plain": [
              "2"
            ]
          },
          "metadata": {},
          "execution_count": 14
        }
      ],
      "source": [
        "my_string.count('en')"
      ]
    },
    {
      "cell_type": "markdown",
      "metadata": {
        "id": "Bgt7dVb_dYjG"
      },
      "source": [
        "***Find a substring in the string using `find` and `index` function.***\n",
        "\n",
        "**`find`**\n",
        "\n",
        "* If present it will return the starting index.\n",
        "* If not found, then it will return -1\n",
        "\n",
        "---"
      ]
    },
    {
      "cell_type": "code",
      "execution_count": 15,
      "metadata": {
        "colab": {
          "base_uri": "https://localhost:8080/"
        },
        "id": "5Kex6J8pdYjH",
        "outputId": "a207d42c-1a5c-4a1f-fce9-840af6ef3d25"
      },
      "outputs": [
        {
          "output_type": "execute_result",
          "data": {
            "text/plain": [
              "-1"
            ]
          },
          "metadata": {},
          "execution_count": 15
        }
      ],
      "source": [
        "my_string.find('next')"
      ]
    },
    {
      "cell_type": "code",
      "execution_count": 17,
      "metadata": {
        "colab": {
          "base_uri": "https://localhost:8080/"
        },
        "id": "_ejjvhnudYjI",
        "outputId": "4f339ca3-cffb-4fae-f4ca-ab29dba487d7"
      },
      "outputs": [
        {
          "output_type": "execute_result",
          "data": {
            "text/plain": [
              "0"
            ]
          },
          "metadata": {},
          "execution_count": 17
        }
      ],
      "source": [
        "my_string.find('Python')"
      ]
    },
    {
      "cell_type": "markdown",
      "metadata": {
        "id": "-Ap_mdE7dYjL"
      },
      "source": [
        "**`index`**\n",
        "\n",
        "* If present it will return the starting index.\n",
        "* If not found, then it will give error"
      ]
    },
    {
      "cell_type": "code",
      "execution_count": 18,
      "metadata": {
        "colab": {
          "base_uri": "https://localhost:8080/",
          "height": 165
        },
        "id": "OqEWm3XXdYjM",
        "outputId": "0a810cae-abab-4aae-ca9b-baccba96adfb"
      },
      "outputs": [
        {
          "output_type": "error",
          "ename": "ValueError",
          "evalue": "ignored",
          "traceback": [
            "\u001b[0;31m---------------------------------------------------------------------------\u001b[0m",
            "\u001b[0;31mValueError\u001b[0m                                Traceback (most recent call last)",
            "\u001b[0;32m<ipython-input-18-5d3ee6a6c4e4>\u001b[0m in \u001b[0;36m<module>\u001b[0;34m()\u001b[0m\n\u001b[0;32m----> 1\u001b[0;31m \u001b[0mmy_string\u001b[0m\u001b[0;34m.\u001b[0m\u001b[0mindex\u001b[0m\u001b[0;34m(\u001b[0m\u001b[0;34m'next'\u001b[0m\u001b[0;34m)\u001b[0m\u001b[0;34m\u001b[0m\u001b[0;34m\u001b[0m\u001b[0m\n\u001b[0m",
            "\u001b[0;31mValueError\u001b[0m: substring not found"
          ]
        }
      ],
      "source": [
        "my_string.index('next')"
      ]
    },
    {
      "cell_type": "code",
      "execution_count": 19,
      "metadata": {
        "colab": {
          "base_uri": "https://localhost:8080/"
        },
        "id": "jtVDtuZ3dYjN",
        "outputId": "5af9118b-1ec9-462c-ec0b-3aa3f6df2700"
      },
      "outputs": [
        {
          "output_type": "execute_result",
          "data": {
            "text/plain": [
              "0"
            ]
          },
          "metadata": {},
          "execution_count": 19
        }
      ],
      "source": [
        "my_string.index('Python')"
      ]
    },
    {
      "cell_type": "markdown",
      "metadata": {
        "id": "jiRAPvPydYjO"
      },
      "source": [
        "***Check whether if the string `startswith` or `endswith` a particular substring or not.***\n",
        "\n",
        "---"
      ]
    },
    {
      "cell_type": "code",
      "execution_count": 20,
      "metadata": {
        "colab": {
          "base_uri": "https://localhost:8080/",
          "height": 35
        },
        "id": "dM7QjOeqdYjP",
        "outputId": "33d47ebc-8fde-44be-fea5-9422a9987f4f"
      },
      "outputs": [
        {
          "output_type": "execute_result",
          "data": {
            "text/plain": [
              "'Python is one of the simplest and most convenient programming languages in terms of syntax'"
            ],
            "application/vnd.google.colaboratory.intrinsic+json": {
              "type": "string"
            }
          },
          "metadata": {},
          "execution_count": 20
        }
      ],
      "source": [
        "my_string"
      ]
    },
    {
      "cell_type": "code",
      "execution_count": 22,
      "metadata": {
        "colab": {
          "base_uri": "https://localhost:8080/"
        },
        "id": "D_dZa3sGdYjP",
        "outputId": "54ddf395-6bba-471c-ad23-f370a47a8729"
      },
      "outputs": [
        {
          "output_type": "execute_result",
          "data": {
            "text/plain": [
              "False"
            ]
          },
          "metadata": {},
          "execution_count": 22
        }
      ],
      "source": [
        "my_string.endswith('Python')"
      ]
    },
    {
      "cell_type": "code",
      "execution_count": 23,
      "metadata": {
        "colab": {
          "base_uri": "https://localhost:8080/"
        },
        "id": "itMSNPgwdYjQ",
        "outputId": "a007612a-c9af-4b35-bfb4-f84fc16ef909"
      },
      "outputs": [
        {
          "output_type": "execute_result",
          "data": {
            "text/plain": [
              "True"
            ]
          },
          "metadata": {},
          "execution_count": 23
        }
      ],
      "source": [
        "my_string.endswith('syntax')"
      ]
    },
    {
      "cell_type": "code",
      "execution_count": 24,
      "metadata": {
        "colab": {
          "base_uri": "https://localhost:8080/"
        },
        "id": "4NqW4WtldYjQ",
        "outputId": "48f81199-93f2-4a5a-8361-be664e87369e"
      },
      "outputs": [
        {
          "output_type": "execute_result",
          "data": {
            "text/plain": [
              "True"
            ]
          },
          "metadata": {},
          "execution_count": 24
        }
      ],
      "source": [
        "my_string.startswith('Python')"
      ]
    },
    {
      "cell_type": "code",
      "execution_count": 25,
      "metadata": {
        "colab": {
          "base_uri": "https://localhost:8080/"
        },
        "id": "2mvqan8LdYjR",
        "outputId": "f285e9bc-c0e5-4fc6-abc5-82f5ec6cc959"
      },
      "outputs": [
        {
          "output_type": "execute_result",
          "data": {
            "text/plain": [
              "False"
            ]
          },
          "metadata": {},
          "execution_count": 25
        }
      ],
      "source": [
        "my_string.startswith('syntax')"
      ]
    },
    {
      "cell_type": "markdown",
      "metadata": {
        "id": "rOsu_9JPdYjS"
      },
      "source": [
        "***Convert the string to the upper case.***\n",
        "\n",
        "---"
      ]
    },
    {
      "cell_type": "code",
      "execution_count": 26,
      "metadata": {
        "colab": {
          "base_uri": "https://localhost:8080/",
          "height": 35
        },
        "id": "nDOp-uhldYjS",
        "outputId": "38f57701-7bf3-4b5a-b0e8-ebb35557a593"
      },
      "outputs": [
        {
          "output_type": "execute_result",
          "data": {
            "text/plain": [
              "'Python is one of the simplest and most convenient programming languages in terms of syntax'"
            ],
            "application/vnd.google.colaboratory.intrinsic+json": {
              "type": "string"
            }
          },
          "metadata": {},
          "execution_count": 26
        }
      ],
      "source": [
        "my_string"
      ]
    },
    {
      "cell_type": "code",
      "execution_count": 27,
      "metadata": {
        "colab": {
          "base_uri": "https://localhost:8080/",
          "height": 35
        },
        "id": "5MsYg05qdYjT",
        "outputId": "984f9d03-4574-4437-f14d-a5314b223180"
      },
      "outputs": [
        {
          "output_type": "execute_result",
          "data": {
            "text/plain": [
              "'PYTHON IS ONE OF THE SIMPLEST AND MOST CONVENIENT PROGRAMMING LANGUAGES IN TERMS OF SYNTAX'"
            ],
            "application/vnd.google.colaboratory.intrinsic+json": {
              "type": "string"
            }
          },
          "metadata": {},
          "execution_count": 27
        }
      ],
      "source": [
        "my_string.upper()"
      ]
    },
    {
      "cell_type": "markdown",
      "metadata": {
        "id": "lGTEHwyYdYjU"
      },
      "source": [
        "***Capitalize: Update the first character of the string to upper case***\n",
        "\n",
        "\n",
        "---"
      ]
    },
    {
      "cell_type": "code",
      "execution_count": 28,
      "metadata": {
        "colab": {
          "base_uri": "https://localhost:8080/",
          "height": 35
        },
        "id": "pHdlfC0jdYjU",
        "outputId": "45d80164-2030-450d-aad4-978968693fdb"
      },
      "outputs": [
        {
          "output_type": "execute_result",
          "data": {
            "text/plain": [
              "'Python is one of the simplest and most convenient programming languages in terms of syntax'"
            ],
            "application/vnd.google.colaboratory.intrinsic+json": {
              "type": "string"
            }
          },
          "metadata": {},
          "execution_count": 28
        }
      ],
      "source": [
        "my_string.capitalize()"
      ]
    },
    {
      "cell_type": "code",
      "execution_count": 29,
      "metadata": {
        "id": "EJG7OejzdYjV"
      },
      "outputs": [],
      "source": [
        "# proper case"
      ]
    },
    {
      "cell_type": "markdown",
      "metadata": {
        "id": "QIum8mIudYjW"
      },
      "source": [
        "***Check if the string is in lower case or upper case.***\n",
        "\n",
        "---"
      ]
    },
    {
      "cell_type": "code",
      "execution_count": 30,
      "metadata": {
        "colab": {
          "base_uri": "https://localhost:8080/"
        },
        "id": "FGWwPnjndYjW",
        "outputId": "74fe6c83-c656-4a56-c862-39b76d9ae483"
      },
      "outputs": [
        {
          "output_type": "execute_result",
          "data": {
            "text/plain": [
              "False"
            ]
          },
          "metadata": {},
          "execution_count": 30
        }
      ],
      "source": [
        "my_string.islower()"
      ]
    },
    {
      "cell_type": "code",
      "execution_count": 31,
      "metadata": {
        "scrolled": true,
        "colab": {
          "base_uri": "https://localhost:8080/"
        },
        "id": "xE5qf8P2dYjW",
        "outputId": "f32902c6-b470-4f74-802d-53dd7a35785e"
      },
      "outputs": [
        {
          "output_type": "execute_result",
          "data": {
            "text/plain": [
              "False"
            ]
          },
          "metadata": {},
          "execution_count": 31
        }
      ],
      "source": [
        "my_string.isupper()"
      ]
    },
    {
      "cell_type": "markdown",
      "metadata": {
        "id": "38P43SK4dYjX"
      },
      "source": [
        "***Check if the string is digit, alpabetic, alpha-numeric.***\n",
        "\n",
        "---"
      ]
    },
    {
      "cell_type": "code",
      "execution_count": 32,
      "metadata": {
        "colab": {
          "base_uri": "https://localhost:8080/"
        },
        "id": "j9yRwgWzdYjX",
        "outputId": "6d329bde-8080-482e-d622-c5e223731f22"
      },
      "outputs": [
        {
          "output_type": "execute_result",
          "data": {
            "text/plain": [
              "True"
            ]
          },
          "metadata": {},
          "execution_count": 32
        }
      ],
      "source": [
        "\"10\".isnumeric()"
      ]
    },
    {
      "cell_type": "code",
      "execution_count": 33,
      "metadata": {
        "colab": {
          "base_uri": "https://localhost:8080/"
        },
        "id": "EBTCLfQcdYjY",
        "outputId": "6682a80f-3079-4999-980e-a602e07b1bca"
      },
      "outputs": [
        {
          "output_type": "execute_result",
          "data": {
            "text/plain": [
              "False"
            ]
          },
          "metadata": {},
          "execution_count": 33
        }
      ],
      "source": [
        "\"1213as\".isnumeric()"
      ]
    },
    {
      "cell_type": "code",
      "execution_count": 34,
      "metadata": {
        "colab": {
          "base_uri": "https://localhost:8080/"
        },
        "id": "M_gKCrPkdYjZ",
        "outputId": "93596506-cd7d-4eed-c963-67daaaa8b3aa"
      },
      "outputs": [
        {
          "output_type": "execute_result",
          "data": {
            "text/plain": [
              "True"
            ]
          },
          "metadata": {},
          "execution_count": 34
        }
      ],
      "source": [
        "\"python\".isalpha()"
      ]
    },
    {
      "cell_type": "code",
      "execution_count": 35,
      "metadata": {
        "colab": {
          "base_uri": "https://localhost:8080/"
        },
        "id": "W5tc_LvhdYjZ",
        "outputId": "2eb3930d-0cfe-492a-df9c-ac3632d06a0f"
      },
      "outputs": [
        {
          "output_type": "execute_result",
          "data": {
            "text/plain": [
              "False"
            ]
          },
          "metadata": {},
          "execution_count": 35
        }
      ],
      "source": [
        "\"1212as\".isalpha()"
      ]
    },
    {
      "cell_type": "code",
      "execution_count": 36,
      "metadata": {
        "colab": {
          "base_uri": "https://localhost:8080/"
        },
        "id": "8B0DcyridYja",
        "outputId": "2b7b8156-b94c-4bc5-8cd0-10ee0e858fd7"
      },
      "outputs": [
        {
          "output_type": "execute_result",
          "data": {
            "text/plain": [
              "True"
            ]
          },
          "metadata": {},
          "execution_count": 36
        }
      ],
      "source": [
        "\"1212as\".isalnum()"
      ]
    },
    {
      "cell_type": "code",
      "execution_count": 38,
      "metadata": {
        "id": "ngqbwhyxdYjb"
      },
      "outputs": [],
      "source": [
        "string = \"Explorepython\""
      ]
    },
    {
      "cell_type": "code",
      "execution_count": 39,
      "metadata": {
        "colab": {
          "base_uri": "https://localhost:8080/"
        },
        "id": "oXgaV5_fdYjc",
        "outputId": "e79bc16c-65c3-42dc-924b-a9b37c0349cf"
      },
      "outputs": [
        {
          "output_type": "execute_result",
          "data": {
            "text/plain": [
              "True"
            ]
          },
          "metadata": {},
          "execution_count": 39
        }
      ],
      "source": [
        "string.isalpha()"
      ]
    },
    {
      "cell_type": "code",
      "execution_count": 40,
      "metadata": {
        "id": "o3AqfQGBdYjc"
      },
      "outputs": [],
      "source": [
        "string = \"Explore python\""
      ]
    },
    {
      "cell_type": "code",
      "execution_count": 41,
      "metadata": {
        "colab": {
          "base_uri": "https://localhost:8080/"
        },
        "id": "kT0ddxpSdYjd",
        "outputId": "cdb38665-bf7d-4247-b2be-c3ac361fafa4"
      },
      "outputs": [
        {
          "output_type": "execute_result",
          "data": {
            "text/plain": [
              "False"
            ]
          },
          "metadata": {},
          "execution_count": 41
        }
      ],
      "source": [
        "string.isalpha()"
      ]
    },
    {
      "cell_type": "markdown",
      "metadata": {
        "id": "CTgz3NdudYjd"
      },
      "source": [
        "***Replace substrings***\n",
        "\n",
        "---"
      ]
    },
    {
      "cell_type": "code",
      "execution_count": 42,
      "metadata": {
        "colab": {
          "base_uri": "https://localhost:8080/",
          "height": 35
        },
        "id": "PeMsKsw-dYjd",
        "outputId": "e6c62c0d-698a-4965-8025-f2d4ecef2e3c"
      },
      "outputs": [
        {
          "output_type": "execute_result",
          "data": {
            "text/plain": [
              "'python is easy to learn.'"
            ],
            "application/vnd.google.colaboratory.intrinsic+json": {
              "type": "string"
            }
          },
          "metadata": {},
          "execution_count": 42
        }
      ],
      "source": [
        "\"java is easy to learn.\".replace('java', 'python')"
      ]
    },
    {
      "cell_type": "markdown",
      "metadata": {
        "id": "Xqquj-D1dYje"
      },
      "source": [
        "***Split function***\n",
        "\n",
        "---"
      ]
    },
    {
      "cell_type": "code",
      "execution_count": 43,
      "metadata": {
        "colab": {
          "base_uri": "https://localhost:8080/"
        },
        "id": "CtwAZx3ZdYje",
        "outputId": "7887d74a-0e97-451f-e345-ffd2cf0cfaae"
      },
      "outputs": [
        {
          "output_type": "execute_result",
          "data": {
            "text/plain": [
              "['python', 'is', 'easy', 'to', 'learn']"
            ]
          },
          "metadata": {},
          "execution_count": 43
        }
      ],
      "source": [
        "\"python is easy to learn\".split(' ')"
      ]
    },
    {
      "cell_type": "code",
      "execution_count": 44,
      "metadata": {
        "colab": {
          "base_uri": "https://localhost:8080/"
        },
        "id": "rVP8pobBdYjf",
        "outputId": "3c65a24b-f63b-4a98-ccd9-54227384e75f"
      },
      "outputs": [
        {
          "output_type": "execute_result",
          "data": {
            "text/plain": [
              "['python is ', ' to learn']"
            ]
          },
          "metadata": {},
          "execution_count": 44
        }
      ],
      "source": [
        "\"python is easy to learn\".split('easy')"
      ]
    },
    {
      "cell_type": "code",
      "source": [
        "len(\"python is easy to learn\".split(' '))"
      ],
      "metadata": {
        "colab": {
          "base_uri": "https://localhost:8080/"
        },
        "id": "U4i4wbeMd7Np",
        "outputId": "bd89441f-8fef-452b-bb47-cbdd8a71dbc6"
      },
      "execution_count": 45,
      "outputs": [
        {
          "output_type": "execute_result",
          "data": {
            "text/plain": [
              "5"
            ]
          },
          "metadata": {},
          "execution_count": 45
        }
      ]
    }
  ],
  "metadata": {
    "kernelspec": {
      "display_name": "Python 3",
      "language": "python",
      "name": "python3"
    },
    "language_info": {
      "codemirror_mode": {
        "name": "ipython",
        "version": 3
      },
      "file_extension": ".py",
      "mimetype": "text/x-python",
      "name": "python",
      "nbconvert_exporter": "python",
      "pygments_lexer": "ipython3",
      "version": "3.7.3"
    },
    "colab": {
      "name": "Data_Structures_String_Manipulation.ipynb",
      "provenance": [],
      "collapsed_sections": [],
      "include_colab_link": true
    }
  },
  "nbformat": 4,
  "nbformat_minor": 0
}