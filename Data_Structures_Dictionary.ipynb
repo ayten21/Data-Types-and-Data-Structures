{
  "nbformat": 4,
  "nbformat_minor": 0,
  "metadata": {
    "kernelspec": {
      "display_name": "Python 3",
      "language": "python",
      "name": "python3"
    },
    "language_info": {
      "codemirror_mode": {
        "name": "ipython",
        "version": 3
      },
      "file_extension": ".py",
      "mimetype": "text/x-python",
      "name": "python",
      "nbconvert_exporter": "python",
      "pygments_lexer": "ipython3",
      "version": "3.7.3"
    },
    "colab": {
      "name": "Data_Structures_Dictionary.ipynb",
      "provenance": [],
      "collapsed_sections": [],
      "include_colab_link": true
    }
  },
  "cells": [
    {
      "cell_type": "markdown",
      "metadata": {
        "id": "view-in-github",
        "colab_type": "text"
      },
      "source": [
        "<a href=\"https://colab.research.google.com/github/ayten21/Explore-Python/blob/main/Data_Structures_Dictionary.ipynb\" target=\"_parent\"><img src=\"https://colab.research.google.com/assets/colab-badge.svg\" alt=\"Open In Colab\"/></a>"
      ]
    },
    {
      "cell_type": "markdown",
      "metadata": {
        "id": "7_NI9RMovAra"
      },
      "source": [
        "---\n",
        "---\n",
        "## Data Structure: Dictionary\n",
        "\n",
        "* Dictionary is also a mutable collection. But as you have seen in the list the indexes of the list are integer numbers. Here, indexes for dictionaries can use many different data types, not just integers.\n",
        "* Indexes for dictionaries are called keys, and a key with its associated value is called a key-value pair.\n",
        "* Items in the dictionaries are unordered. You can find out the first item in a list simply like my_list[0]. But there is no ✖️ “first” item in a dictionary. \n",
        "* When we check whether the 2 lists are same or not the order of values in the list matters. It does not matter in what order the key-value pairs are typed in a dictionary.\n",
        "---"
      ]
    },
    {
      "cell_type": "markdown",
      "metadata": {
        "id": "0P4UDWq6vArk"
      },
      "source": [
        "***Defining a dictionary in Python*** "
      ]
    },
    {
      "cell_type": "code",
      "metadata": {
        "id": "-RT617E3vArt"
      },
      "source": [
        "# define the key value pairs\n",
        "my_dictionary = {\n",
        "    'name'       : 'ayten',\n",
        "    'age'        :  22,\n",
        "    'percentage' :  85,\n",
        "    'attendance' :  74,\n",
        "    'city'       : 'baku',\n",
        "    'country'    : 'azerbaijan'\n",
        "}"
      ],
      "execution_count": 1,
      "outputs": []
    },
    {
      "cell_type": "code",
      "metadata": {
        "id": "zB5mBRj7vAsE",
        "colab": {
          "base_uri": "https://localhost:8080/"
        },
        "outputId": "67b11143-bbfd-4a3b-935d-bda873e3ca42"
      },
      "source": [
        "# access key of the dictionary\n",
        "print('Name is : ',my_dictionary['name'])\n"
      ],
      "execution_count": 2,
      "outputs": [
        {
          "output_type": "stream",
          "name": "stdout",
          "text": [
            "Name is :  ayten\n"
          ]
        }
      ]
    },
    {
      "cell_type": "code",
      "metadata": {
        "id": "bMIC0cGSvAsW",
        "colab": {
          "base_uri": "https://localhost:8080/"
        },
        "outputId": "d0cea2e8-2107-488f-81b8-bf204cabaf5d"
      },
      "source": [
        "print('Age before updation is : ',my_dictionary['age'])\n",
        "\n",
        "# update value of the key\n",
        "my_dictionary['age'] = 25\n",
        "\n",
        "print('Age after updation is : ',my_dictionary['age'])"
      ],
      "execution_count": 3,
      "outputs": [
        {
          "output_type": "stream",
          "name": "stdout",
          "text": [
            "Age before updation is :  22\n",
            "Age after updation is :  25\n"
          ]
        }
      ]
    },
    {
      "cell_type": "code",
      "metadata": {
        "id": "l1cT5UFzvAsm",
        "outputId": "bfa1f730-e41b-4dfc-d819-8e90ad3942d4",
        "colab": {
          "base_uri": "https://localhost:8080/"
        }
      },
      "source": [
        "# get the keys of the dictionary\n",
        "\n",
        "my_dictionary.keys()"
      ],
      "execution_count": 4,
      "outputs": [
        {
          "output_type": "execute_result",
          "data": {
            "text/plain": [
              "dict_keys(['name', 'age', 'percentage', 'attendance', 'city', 'country'])"
            ]
          },
          "metadata": {},
          "execution_count": 4
        }
      ]
    },
    {
      "cell_type": "code",
      "metadata": {
        "id": "ePbHokccvAs2",
        "colab": {
          "base_uri": "https://localhost:8080/"
        },
        "outputId": "8c9720de-4a9a-45ca-f56b-abeaaeb981e2"
      },
      "source": [
        "# get the values of the dictionary\n",
        "\n",
        "my_dictionary.values()"
      ],
      "execution_count": 5,
      "outputs": [
        {
          "output_type": "execute_result",
          "data": {
            "text/plain": [
              "dict_values(['ayten', 25, 85, 74, 'baku', 'azerbaijan'])"
            ]
          },
          "metadata": {},
          "execution_count": 5
        }
      ]
    },
    {
      "cell_type": "code",
      "metadata": {
        "id": "gmDuMaPcvAtE"
      },
      "source": [
        "# update dictionary with a dictionary\n",
        "\n",
        "my_dictionary.update({ 'pincode' : 122015, 'last_name' : 'haciyeva'})"
      ],
      "execution_count": 6,
      "outputs": []
    },
    {
      "cell_type": "code",
      "metadata": {
        "id": "vgQrYzA6vAtQ",
        "colab": {
          "base_uri": "https://localhost:8080/"
        },
        "outputId": "c6f707e8-520f-4b0d-9af0-c1e07d627220"
      },
      "source": [
        "my_dictionary"
      ],
      "execution_count": 7,
      "outputs": [
        {
          "output_type": "execute_result",
          "data": {
            "text/plain": [
              "{'age': 25,\n",
              " 'attendance': 74,\n",
              " 'city': 'baku',\n",
              " 'country': 'azerbaijan',\n",
              " 'last_name': 'haciyeva',\n",
              " 'name': 'ayten',\n",
              " 'percentage': 85,\n",
              " 'pincode': 122015}"
            ]
          },
          "metadata": {},
          "execution_count": 7
        }
      ]
    },
    {
      "cell_type": "markdown",
      "metadata": {
        "id": "_EQ7rb8XvAte"
      },
      "source": [
        "---\n",
        "\n",
        "***Add new key to the dictionary*** \n",
        "\n",
        "---"
      ]
    },
    {
      "cell_type": "code",
      "metadata": {
        "id": "hm9aXTj4vAtk",
        "colab": {
          "base_uri": "https://localhost:8080/"
        },
        "outputId": "6667239d-af95-4429-f57e-8be33401cebd"
      },
      "source": [
        "# add new key to the dictionary:\n",
        "my_dictionary['new_key'] = 'new_value'\n",
        "\n",
        "print(my_dictionary)"
      ],
      "execution_count": 8,
      "outputs": [
        {
          "output_type": "stream",
          "name": "stdout",
          "text": [
            "{'name': 'ayten', 'age': 25, 'percentage': 85, 'attendance': 74, 'city': 'baku', 'country': 'azerbaijan', 'pincode': 122015, 'last_name': 'haciyeva', 'new_key': 'new_value'}\n"
          ]
        }
      ]
    },
    {
      "cell_type": "markdown",
      "metadata": {
        "id": "bajZA3xIvAtx"
      },
      "source": [
        "---\n",
        "\n",
        "***Dictionary Keys***\n",
        "\n",
        "---"
      ]
    },
    {
      "cell_type": "markdown",
      "metadata": {
        "id": "R9peqob_vAt0"
      },
      "source": [
        "---\n",
        "\n",
        "***Most of the data types can be used as keys in Dictionaries***\n",
        "\n",
        "---"
      ]
    },
    {
      "cell_type": "code",
      "metadata": {
        "id": "cbtTDemmvAt3"
      },
      "source": [
        "sample = {\n",
        "    'string' : 'string',\n",
        "    10       : 'integer',\n",
        "    1.5      : 'float',\n",
        "    False    : 'boolean'\n",
        "}"
      ],
      "execution_count": 9,
      "outputs": []
    },
    {
      "cell_type": "markdown",
      "metadata": {
        "id": "MDpJJaGHvAuE"
      },
      "source": [
        "---\n",
        "\n",
        "***`Duplicate keys`***\n",
        "\n",
        "---"
      ]
    },
    {
      "cell_type": "code",
      "metadata": {
        "id": "0GpZWEjhvAuH"
      },
      "source": [
        "sample = {\n",
        "    'A' : 1,\n",
        "    'B' : 2,\n",
        "    'C' : 3\n",
        "}"
      ],
      "execution_count": 10,
      "outputs": []
    },
    {
      "cell_type": "code",
      "metadata": {
        "id": "9j-AlRwwvAuS",
        "outputId": "884f18cc-2880-4446-9492-096443d1867e",
        "colab": {
          "base_uri": "https://localhost:8080/"
        }
      },
      "source": [
        "sample['A']"
      ],
      "execution_count": 11,
      "outputs": [
        {
          "output_type": "execute_result",
          "data": {
            "text/plain": [
              "1"
            ]
          },
          "metadata": {},
          "execution_count": 11
        }
      ]
    },
    {
      "cell_type": "code",
      "metadata": {
        "id": "diV97Y4IvAud"
      },
      "source": [
        "sample = {\n",
        "    'A' : 1,\n",
        "    'B' : 2,\n",
        "    'C' : 3,\n",
        "    'A' : 100\n",
        "}"
      ],
      "execution_count": 12,
      "outputs": []
    },
    {
      "cell_type": "code",
      "metadata": {
        "id": "ZJhdKtYavAun",
        "outputId": "ca38b6f9-ed9f-4cc8-f3b4-b14a9913c750",
        "colab": {
          "base_uri": "https://localhost:8080/"
        }
      },
      "source": [
        "sample['A']"
      ],
      "execution_count": 13,
      "outputs": [
        {
          "output_type": "execute_result",
          "data": {
            "text/plain": [
              "100"
            ]
          },
          "metadata": {},
          "execution_count": 13
        }
      ]
    },
    {
      "cell_type": "markdown",
      "metadata": {
        "id": "uBHqsEh6vAux"
      },
      "source": [
        "***If we add duplicate keys, it will not throw an error instead it will overwrite the value which is added in the last.***\n",
        "\n",
        "---"
      ]
    },
    {
      "cell_type": "markdown",
      "metadata": {
        "id": "WTC30Y2XvAuz"
      },
      "source": [
        "---\n",
        "\n",
        "***A dictionary key must be of a type that is immutable.***\n",
        "\n",
        "---"
      ]
    },
    {
      "cell_type": "code",
      "metadata": {
        "id": "6CsJViwavAu4",
        "outputId": "2da52049-e821-4051-92e2-fa2e695e254f",
        "colab": {
          "base_uri": "https://localhost:8080/",
          "height": 217
        }
      },
      "source": [
        "# list is mutable, hence not allowed\n",
        "sample = {\n",
        "    1 : 'integer',\n",
        "    [1, 2] : 'list'\n",
        "}"
      ],
      "execution_count": 14,
      "outputs": [
        {
          "output_type": "error",
          "ename": "TypeError",
          "evalue": "ignored",
          "traceback": [
            "\u001b[0;31m---------------------------------------------------------------------------\u001b[0m",
            "\u001b[0;31mTypeError\u001b[0m                                 Traceback (most recent call last)",
            "\u001b[0;32m<ipython-input-14-2550f827adde>\u001b[0m in \u001b[0;36m<module>\u001b[0;34m()\u001b[0m\n\u001b[1;32m      2\u001b[0m sample = {\n\u001b[1;32m      3\u001b[0m     \u001b[0;36m1\u001b[0m \u001b[0;34m:\u001b[0m \u001b[0;34m'integer'\u001b[0m\u001b[0;34m,\u001b[0m\u001b[0;34m\u001b[0m\u001b[0;34m\u001b[0m\u001b[0m\n\u001b[0;32m----> 4\u001b[0;31m     \u001b[0;34m[\u001b[0m\u001b[0;36m1\u001b[0m\u001b[0;34m,\u001b[0m \u001b[0;36m2\u001b[0m\u001b[0;34m]\u001b[0m \u001b[0;34m:\u001b[0m \u001b[0;34m'list'\u001b[0m\u001b[0;34m\u001b[0m\u001b[0;34m\u001b[0m\u001b[0m\n\u001b[0m\u001b[1;32m      5\u001b[0m }\n",
            "\u001b[0;31mTypeError\u001b[0m: unhashable type: 'list'"
          ]
        }
      ]
    },
    {
      "cell_type": "code",
      "metadata": {
        "id": "PaV-M8D0vAvA",
        "outputId": "9fdf502b-600d-48e4-a8d3-ccc5bfce83ef",
        "colab": {
          "base_uri": "https://localhost:8080/",
          "height": 235
        }
      },
      "source": [
        "# set is mutable, hence not allowed\n",
        "\n",
        "sample = {\n",
        "    1 : 'integer',\n",
        "    { 1, 2 } : 'set'\n",
        "    \n",
        "}"
      ],
      "execution_count": 15,
      "outputs": [
        {
          "output_type": "error",
          "ename": "TypeError",
          "evalue": "ignored",
          "traceback": [
            "\u001b[0;31m---------------------------------------------------------------------------\u001b[0m",
            "\u001b[0;31mTypeError\u001b[0m                                 Traceback (most recent call last)",
            "\u001b[0;32m<ipython-input-15-4bdabe9ea12a>\u001b[0m in \u001b[0;36m<module>\u001b[0;34m()\u001b[0m\n\u001b[1;32m      3\u001b[0m sample = {\n\u001b[1;32m      4\u001b[0m     \u001b[0;36m1\u001b[0m \u001b[0;34m:\u001b[0m \u001b[0;34m'integer'\u001b[0m\u001b[0;34m,\u001b[0m\u001b[0;34m\u001b[0m\u001b[0;34m\u001b[0m\u001b[0m\n\u001b[0;32m----> 5\u001b[0;31m     \u001b[0;34m{\u001b[0m \u001b[0;36m1\u001b[0m\u001b[0;34m,\u001b[0m \u001b[0;36m2\u001b[0m \u001b[0;34m}\u001b[0m \u001b[0;34m:\u001b[0m \u001b[0;34m'set'\u001b[0m\u001b[0;34m\u001b[0m\u001b[0;34m\u001b[0m\u001b[0m\n\u001b[0m\u001b[1;32m      6\u001b[0m \u001b[0;34m\u001b[0m\u001b[0m\n\u001b[1;32m      7\u001b[0m }\n",
            "\u001b[0;31mTypeError\u001b[0m: unhashable type: 'set'"
          ]
        }
      ]
    },
    {
      "cell_type": "code",
      "metadata": {
        "id": "n7IgkmNbvAvJ"
      },
      "source": [
        "# tuple is immutable, hence it is allowed\n",
        "sample = {\n",
        "    1 : 'integer',\n",
        "    (1, 2) : 'tuple'\n",
        "}"
      ],
      "execution_count": 16,
      "outputs": []
    },
    {
      "cell_type": "markdown",
      "metadata": {
        "id": "lH5AQ91IvAvR"
      },
      "source": [
        "---\n",
        "\n",
        "📍📍 ***Compare 2 dictionaries by changing their order.*** 📍📍\n",
        "\n",
        "---"
      ]
    },
    {
      "cell_type": "code",
      "metadata": {
        "id": "oy9erg2pvAvV",
        "outputId": "a189279e-c32c-4880-f744-8a2d331c5c02",
        "colab": {
          "base_uri": "https://localhost:8080/"
        }
      },
      "source": [
        "my_dict_1 = {\n",
        "    'key_1' : 'value_1',\n",
        "    'key_2' : 'value_2',\n",
        "    'key_3' : 3\n",
        "}\n",
        "\n",
        "my_dict_2 = {\n",
        "    'key_3' : 3,\n",
        "    'key_1' : 'value_1',\n",
        "    'key_2' : 'value_2'\n",
        "}\n",
        "\n",
        "(my_dict_1 == my_dict_2)"
      ],
      "execution_count": 17,
      "outputs": [
        {
          "output_type": "execute_result",
          "data": {
            "text/plain": [
              "True"
            ]
          },
          "metadata": {},
          "execution_count": 17
        }
      ]
    },
    {
      "cell_type": "markdown",
      "metadata": {
        "id": "xXzvml05vAvd"
      },
      "source": [
        "---\n",
        " ***Iterate through key-value pairs of the dictionary*** \n",
        "\n",
        "---"
      ]
    },
    {
      "cell_type": "code",
      "metadata": {
        "id": "uWA_t-PNvAvg",
        "colab": {
          "base_uri": "https://localhost:8080/"
        },
        "outputId": "5b30b5a3-7969-4445-82c7-57899cddc18e"
      },
      "source": [
        "# Iterate through key-value pairs of the dictionary\n",
        "\n",
        "for key,value in my_dictionary.items() :\n",
        "    print(key,value)"
      ],
      "execution_count": 19,
      "outputs": [
        {
          "output_type": "stream",
          "name": "stdout",
          "text": [
            "name ayten\n",
            "age 25\n",
            "percentage 85\n",
            "attendance 74\n",
            "city baku\n",
            "country azerbaijan\n",
            "pincode 122015\n",
            "last_name haciyeva\n",
            "new_key new_value\n"
          ]
        }
      ]
    },
    {
      "cell_type": "markdown",
      "metadata": {
        "id": "VkaQG1S_vAvq"
      },
      "source": [
        "---\n",
        "\n",
        " ***Sort the dictionary by key*** \n",
        "\n",
        "---"
      ]
    },
    {
      "cell_type": "code",
      "metadata": {
        "id": "2Xi7ci9VvAvs"
      },
      "source": [
        "m_dict = {\n",
        "    'Ayten' : 45,\n",
        "    'Khalid'    : 22,\n",
        "    'Murad'    : 31,\n",
        "    'Ramid'   : 17,\n",
        "    'Selin'  : 10 \n",
        "}"
      ],
      "execution_count": 21,
      "outputs": []
    },
    {
      "cell_type": "code",
      "metadata": {
        "id": "AZy8b3cVvAvz",
        "colab": {
          "base_uri": "https://localhost:8080/"
        },
        "outputId": "421822fd-b880-411c-c13c-c3c64feea6a8"
      },
      "source": [
        "sorted(m_dict.items())"
      ],
      "execution_count": 22,
      "outputs": [
        {
          "output_type": "execute_result",
          "data": {
            "text/plain": [
              "[('Ayten', 45), ('Khalid', 22), ('Murad', 31), ('Ramid', 17), ('Selin', 10)]"
            ]
          },
          "metadata": {},
          "execution_count": 22
        }
      ]
    }
  ]
}