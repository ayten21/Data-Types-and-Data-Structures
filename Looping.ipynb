{
  "nbformat": 4,
  "nbformat_minor": 0,
  "metadata": {
    "kernelspec": {
      "display_name": "Python 3",
      "language": "python",
      "name": "python3"
    },
    "language_info": {
      "codemirror_mode": {
        "name": "ipython",
        "version": 3
      },
      "file_extension": ".py",
      "mimetype": "text/x-python",
      "name": "python",
      "nbconvert_exporter": "python",
      "pygments_lexer": "ipython3",
      "version": "3.7.3"
    },
    "colab": {
      "name": "Looping.ipynb",
      "provenance": [],
      "collapsed_sections": [],
      "include_colab_link": true
    }
  },
  "cells": [
    {
      "cell_type": "markdown",
      "metadata": {
        "id": "view-in-github",
        "colab_type": "text"
      },
      "source": [
        "<a href=\"https://colab.research.google.com/github/ayten21/Explore-Python/blob/main/Looping.ipynb\" target=\"_parent\"><img src=\"https://colab.research.google.com/assets/colab-badge.svg\" alt=\"Open In Colab\"/></a>"
      ]
    },
    {
      "cell_type": "markdown",
      "metadata": {
        "id": "PPB-RGM4cx-b"
      },
      "source": [
        "---\n",
        "---\n",
        "\n",
        "<center><h1> Looping:</h1></center>\n",
        "\n",
        "---"
      ]
    },
    {
      "cell_type": "markdown",
      "metadata": {
        "id": "mXwSALCUcx-f"
      },
      "source": [
        "---\n",
        "\n",
        "### FOR LOOP AND RANGE FUNCTION\n",
        "\n",
        "- We use for loop when we want to run a block of code certain number of times.\n",
        " \n",
        "---\n",
        "\n",
        "- When we pass only one argument (considered as **`END_POINT`**) in the range function. The loop starts with **`0`** and runs till **`END_POINT - 1.`ş The last point of the range never executes!**\n"
      ]
    },
    {
      "cell_type": "code",
      "metadata": {
        "id": "ZPCew3lJcx-i"
      },
      "source": [
        "for number in range(4):\n",
        "    print(number)"
      ],
      "execution_count": null,
      "outputs": []
    },
    {
      "cell_type": "markdown",
      "metadata": {
        "id": "ly7TxfIRcx-o"
      },
      "source": [
        "---\n",
        "* When we pass two arguments (first one considered as **`START_POINT`** and second one as **`END_POINT`**). The loop start with **`START_POINT`** and runs till **`END_POINT -1`**."
      ]
    },
    {
      "cell_type": "code",
      "metadata": {
        "id": "rBK12K0Wcx-p"
      },
      "source": [
        "for number in range(1, 5):\n",
        "    print(number)"
      ],
      "execution_count": null,
      "outputs": []
    },
    {
      "cell_type": "markdown",
      "metadata": {
        "id": "eofvSy29cx-v"
      },
      "source": [
        "---\n",
        "\n",
        "* When we pass three arguments (first one considered as **`START_POINT`**, second one as **`END_POINT`** and the last one is **`STEP`**). \n",
        "\n",
        "---"
      ]
    },
    {
      "cell_type": "code",
      "metadata": {
        "id": "mk3V8nAzcx-w"
      },
      "source": [
        "for number in range(1, 10, 2):\n",
        "    print(number, end= ' ')"
      ],
      "execution_count": null,
      "outputs": []
    },
    {
      "cell_type": "markdown",
      "metadata": {
        "id": "wQcfbZs2cx-2"
      },
      "source": [
        "---\n",
        "\n",
        "* Iterate a **`String`** using FOR LOOP\n",
        "\n",
        "---"
      ]
    },
    {
      "cell_type": "code",
      "metadata": {
        "id": "DDZ7Y5bycx-3"
      },
      "source": [
        "for character in \"explore python\":\n",
        "    print(character)"
      ],
      "execution_count": null,
      "outputs": []
    },
    {
      "cell_type": "markdown",
      "source": [
        "You may want to print the letters side by side, not underline. Then check it out:"
      ],
      "metadata": {
        "id": "YXk4NqYbsh3f"
      }
    },
    {
      "cell_type": "code",
      "source": [
        "for character in \"explore python\":\n",
        "    print(character, end = \"\")"
      ],
      "metadata": {
        "id": "VeJSI20fshVg"
      },
      "execution_count": null,
      "outputs": []
    },
    {
      "cell_type": "markdown",
      "metadata": {
        "id": "DJP3WpLGcx_E"
      },
      "source": [
        "# ---\n",
        "\n",
        "### **`NESTED FOR LOOPS`**\n",
        "\n",
        "- A nested loop is a loop within a loop.\n",
        "- For each step in the outer loop, the inner loop exectues completely. See the below example\n",
        "\n",
        "---"
      ]
    },
    {
      "cell_type": "code",
      "metadata": {
        "id": "VWiztlvTcx_G"
      },
      "source": [
        "# define the range of outer loop\n",
        "for outer_loop in range(1, 3):\n",
        "    \n",
        "    # define the inner loop\n",
        "    for inner_loop in \"ABC\":\n",
        "        \n",
        "        print(outer_loop, inner_loop)"
      ],
      "execution_count": null,
      "outputs": []
    },
    {
      "cell_type": "markdown",
      "metadata": {
        "id": "AaFBHw2Gcx_N"
      },
      "source": [
        "---\n",
        "---\n",
        "\n",
        "## WHILE LOOP\n",
        "\n",
        "* Another way to execute a block of code over and over again is using a while statement. \n",
        "* The code in a while clause will be executed as long as the while statement’s condition is True.\n",
        "\n",
        "\n",
        "---\n",
        "\n",
        "***In the below example, we have initialize the variable `number = 0` and we will increment it's value in each iteration. The loop will only continue to run only if the value is less than 7.***\n",
        "\n",
        "---"
      ]
    },
    {
      "cell_type": "code",
      "metadata": {
        "id": "TvUPcziBcx_O"
      },
      "source": [
        "number = 0\n",
        "\n",
        "while (number < 7):\n",
        "    print(number)\n",
        "    number = number + 1\n",
        "#here if we don't set the number to 'number + 1', this loop will only print 0 and will never stop 😧"
      ],
      "execution_count": null,
      "outputs": []
    },
    {
      "cell_type": "markdown",
      "source": [
        ""
      ],
      "metadata": {
        "id": "i9Hoxw2PtbRA"
      }
    },
    {
      "cell_type": "code",
      "metadata": {
        "id": "_f5Xj9r8cx_a"
      },
      "source": [
        "number = 0\n",
        "\n",
        "while (number < 7):\n",
        "    print(number)\n",
        "    number = number + 2"
      ],
      "execution_count": null,
      "outputs": []
    },
    {
      "cell_type": "markdown",
      "metadata": {
        "id": "Q2LyZKtCcx_g"
      },
      "source": [
        "---\n",
        "---\n",
        "\n",
        "### Jump Statements in Python (break, continue and pass)\n",
        "\n",
        "- Using for loops and while loops in Python allow you to automate and repeat tasks in an efficient manner.\n",
        "\n",
        "- But sometimes, an external factor may influence the way your program runs. When this occurs, you may want your program to exit a loop completely, skip part of a loop before continuing, or ignore that external factor. \n",
        "- You can do these actions with break and continue statements.\n",
        "\n",
        "#### 1. Break Statement\n",
        "- In Python, the break statement provides you with the opportunity to exit out of a loop when an external condition is triggered. \n",
        "\n",
        "- You’ll put the break statement within the block of code under your loop statement, usually after a conditional if statement.\n",
        "\n",
        "- The break statement causes a program to break out of a loop.\n",
        "\n",
        "\n",
        "Let’s look at an example that uses the break statement in a for loop:\n",
        "\n"
      ]
    },
    {
      "cell_type": "code",
      "metadata": {
        "id": "buV0FHzXcx_j"
      },
      "source": [
        "number = 0\n",
        "\n",
        "for number in range(10):\n",
        "    if number == 5:\n",
        "        break   \n",
        "\n",
        "    print('Number is ' + str(number))\n",
        "\n",
        "print('Out of loop')"
      ],
      "execution_count": null,
      "outputs": []
    },
    {
      "cell_type": "markdown",
      "metadata": {
        "id": "YkUc4NPscx_r"
      },
      "source": [
        "---\n",
        "\n",
        "***Problem Statement:***\n",
        "\n",
        "- In the following example, user will enter the password which is set to be `data`.\n",
        "- If the password matches, It will print ***`Let's explore Python`*** else print ***`Wrong Password!!` *** and user will re-enter the password.\n",
        "- In the fourth trial, it will print ***`One Trial left!!!`***.\n"
      ]
    },
    {
      "cell_type": "code",
      "metadata": {
        "id": "0XdZuAtRcx_t"
      },
      "source": [
        "password = \"data\"\n",
        "\n",
        "for trial in range(1,5):\n",
        "    \n",
        "    if trial == 4:\n",
        "        print('One trial left!!!')\n",
        "        \n",
        "    \n",
        "    enter_password = input(\"Enter Password: \")\n",
        "        \n",
        "    if enter_password == password:\n",
        "        print(\"Let's explore Python!\")\n",
        "        break\n",
        "        \n",
        "    else:\n",
        "        print(\"Wrong Password!\")"
      ],
      "execution_count": null,
      "outputs": []
    },
    {
      "cell_type": "markdown",
      "metadata": {
        "id": "Jlp4QwHQcx_y"
      },
      "source": [
        "---\n",
        "\n",
        "#### 2. Continue Statement\n",
        "\n",
        "- The continue statement gives you the option to skip over the part of a loop where an external condition is triggered, but to go on to complete the rest of the loop. \n",
        "\n",
        "- That is, the current iteration of the loop will be disrupted, but the program will return to the top of the loop.\n",
        "\n",
        "- The continue statement will be within the block of code under the loop statement, usually after a conditional if statement.\n",
        "\n",
        "- The continue statement causes a program to skip certain factors that come up within a loop, but then continue through the rest of the loop.\n",
        "\n",
        "\n",
        "Using the same for loop program as in the Break Statement section above, we’ll use a continue statement rather than a break statement:\n"
      ]
    },
    {
      "cell_type": "code",
      "metadata": {
        "id": "6MzPFwLJcx_z"
      },
      "source": [
        "number = 0\n",
        "\n",
        "for number in range(10):\n",
        "    if number == 5:\n",
        "        continue   \n",
        "\n",
        "    print('Number is ' + str(number))\n",
        "\n",
        "print('Out of loop')"
      ],
      "execution_count": null,
      "outputs": []
    },
    {
      "cell_type": "markdown",
      "metadata": {
        "id": "sKZs9P3Lcx_4"
      },
      "source": [
        "---\n",
        "\n",
        "***Problem Statement:***\n",
        "\n",
        "- In the following example, user will enter the password which is set to be `1232`.\n",
        "- If the password matches, It will ask user to provide details like ***`Enter Your Name: `*** and ***`Enter Your City\": ` *** and user will re-enter the password.\n",
        "- In the fourth trial, it will print ***`One Trial left!!!`***.\n"
      ]
    },
    {
      "cell_type": "code",
      "metadata": {
        "id": "K-IKTkFfcx_5"
      },
      "source": [
        "password = \"1232\"\n",
        "\n",
        "for trial in range(1, 5):\n",
        "    \n",
        "    if trial == 4:\n",
        "        print('One trial left!!!')\n",
        "    \n",
        "    enter_password = input(\"Enter password: \")\n",
        "        \n",
        "    if enter_password != password:\n",
        "        print(\"Try Again !!\")\n",
        "        continue\n",
        "        \n",
        "    else:\n",
        "        name = input(\"Enter Your Name: \")\n",
        "        city_name = input(\"Enter Your City: \")\n",
        "        break"
      ],
      "execution_count": null,
      "outputs": []
    },
    {
      "cell_type": "markdown",
      "metadata": {
        "id": "kHt4iB8pcyAN"
      },
      "source": [
        "- The difference in using the continue statement rather than a break statement is that our code will continue despite the disruption when the variable number is evaluated as equivalent to 5. \n",
        "\n",
        "\n",
        "---\n",
        "\n",
        "####  Pass Statement\n",
        "\n",
        "- pass is a null operation — when it is executed, nothing happens.\n",
        "- It is useful as a placeholder when a statement is required syntactically, but no code needs to be executed.\n",
        "\n",
        "- The pass statement tells the program to disregard that condition and continue to run the program as usual.\n",
        "\n",
        "\n",
        "Using the same code block as above, let’s replace the break or continue statement with a pass statement:\n"
      ]
    },
    {
      "cell_type": "code",
      "metadata": {
        "id": "RiZ1csWMcyAU"
      },
      "source": [
        "number = 0\n",
        "\n",
        "for number in range(10):\n",
        "    if number == 5:\n",
        "        pass   \n",
        "\n",
        "    print('Number is ' + str(number))\n",
        "\n",
        "print('Out of loop')\n"
      ],
      "execution_count": null,
      "outputs": []
    },
    {
      "cell_type": "markdown",
      "metadata": {
        "id": "qiFfNkAwcyAc"
      },
      "source": [
        "- The pass statement can create minimal classes, or act as a placeholder when working on new code and thinking on an algorithmic level before hammering out details.\n",
        "\n",
        "- The break, continue, and pass statements in Python will allow you to use for loops and while loops more effectively in your code.\n",
        "\n",
        "---"
      ]
    }
  ]
}