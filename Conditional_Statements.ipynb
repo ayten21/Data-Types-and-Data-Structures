{
  "nbformat": 4,
  "nbformat_minor": 0,
  "metadata": {
    "kernelspec": {
      "display_name": "Python 3",
      "language": "python",
      "name": "python3"
    },
    "language_info": {
      "codemirror_mode": {
        "name": "ipython",
        "version": 3
      },
      "file_extension": ".py",
      "mimetype": "text/x-python",
      "name": "python",
      "nbconvert_exporter": "python",
      "pygments_lexer": "ipython3",
      "version": "3.7.3"
    },
    "colab": {
      "name": "Conditional Statements.ipynb",
      "provenance": [],
      "collapsed_sections": [],
      "include_colab_link": true
    }
  },
  "cells": [
    {
      "cell_type": "markdown",
      "metadata": {
        "id": "view-in-github",
        "colab_type": "text"
      },
      "source": [
        "<a href=\"https://colab.research.google.com/github/ayten21/Explore-Python/blob/main/Conditional_Statements.ipynb\" target=\"_parent\"><img src=\"https://colab.research.google.com/assets/colab-badge.svg\" alt=\"Open In Colab\"/></a>"
      ]
    },
    {
      "cell_type": "markdown",
      "metadata": {
        "id": "y0SA9Evx0A7m"
      },
      "source": [
        "---\n",
        "\n",
        "## Indentation and Comments in Python\n",
        "\n",
        "***Before starting Conditional Statements, we need to know about  `indentation` and `comments` in Python.***\n",
        "\n",
        "#### `INDENTATION`\n",
        "\n",
        "\n",
        " - Indentation means `(spaces and tabs)` that are used at the beginning of any statement. The statements with the same indentation belong to the same group. \n",
        "\n",
        "---"
      ]
    },
    {
      "cell_type": "code",
      "metadata": {
        "id": "XNZdtCFi0A7v"
      },
      "source": [
        "a = 10\n",
        "    b = 8 # unexpected extra space will give us an error"
      ],
      "execution_count": null,
      "outputs": []
    },
    {
      "cell_type": "code",
      "metadata": {
        "id": "LlBHrpqe0A8K"
      },
      "source": [
        "if (10 == 10):\n",
        "print('True Statement')"
      ],
      "execution_count": null,
      "outputs": []
    },
    {
      "cell_type": "markdown",
      "metadata": {
        "id": "Z1MpYst20A8c"
      },
      "source": [
        "***The above code snippet contains the `if` statement which expects to perform some lines of code if the condition is true. So, all of that code should belong to a group which python finds out by `indented` block of code.***\n",
        "\n",
        "---"
      ]
    },
    {
      "cell_type": "code",
      "metadata": {
        "id": "dm2r9ozf0A8h"
      },
      "source": [
        "if (2 == 2):\n",
        "    print('True Statement')"
      ],
      "execution_count": null,
      "outputs": []
    },
    {
      "cell_type": "markdown",
      "metadata": {
        "id": "nkDiSUxF0A8x"
      },
      "source": [
        "---\n",
        "\n",
        "#### `COMMENTS`\n",
        "\n",
        "To write a comment in Python, simply put the hash mark # before your desired comment:\n",
        "\n",
        "---"
      ]
    },
    {
      "cell_type": "code",
      "metadata": {
        "id": "Gr0loO_h0A82"
      },
      "source": [
        "print('This line will be executed')\n",
        "# print('This is a comment')\n",
        "# Python will not show these lines as an output, because these are just comments"
      ],
      "execution_count": null,
      "outputs": []
    },
    {
      "cell_type": "markdown",
      "metadata": {
        "id": "lL6Wgn9C0A9F"
      },
      "source": [
        "---\n",
        "\n",
        "<center><h1>Conditional Statements </h1></center>\n",
        "\n",
        "\n",
        "---\n",
        "***CONDITIONAL OPERATORS***\n",
        "\n",
        "* ***Mathematical Equality:*** a == b\n",
        "* ***Not Equals:*** a != b\n",
        "* ***Less than:*** a < b\n",
        "* ***Less than or equal to:*** a <= b\n",
        "* ***Greater than:*** a > b\n",
        "* ***Greater than or equal to:*** a >= b\n",
        "\n",
        "\n",
        "---"
      ]
    },
    {
      "cell_type": "code",
      "metadata": {
        "id": "0Zbslyf20A9K"
      },
      "source": [
        "# if statement\n",
        "\n",
        "x = 1\n",
        "\n",
        "if (x == 1):\n",
        "    print('This condition is True.')"
      ],
      "execution_count": null,
      "outputs": []
    },
    {
      "cell_type": "code",
      "metadata": {
        "id": "ZjzLtBYQ0A9W"
      },
      "source": [
        "# if \"The condition in the if statement is False\"\n",
        "\n",
        "if (x == 3):\n",
        "    print('This condition is True')\n",
        "    \n",
        "# Here we will not get any output."
      ],
      "execution_count": 4,
      "outputs": []
    },
    {
      "cell_type": "code",
      "metadata": {
        "id": "1dP6DdZW0A9i"
      },
      "source": [
        "# with one condition\n",
        "a = 5\n",
        "b = 10\n",
        "\n",
        "if (a > b):\n",
        "    print('a is greater than b.')\n",
        "else :\n",
        "    print('a is smaller than b.')"
      ],
      "execution_count": null,
      "outputs": []
    },
    {
      "cell_type": "code",
      "metadata": {
        "id": "po4ObPfb0A9y"
      },
      "source": [
        "# multiple conditions\n",
        "a = 8\n",
        "b = 10\n",
        "\n",
        "if ( (a > 10) and (b > 10) ):\n",
        "    print('Both the numbers are greater than 10.')\n",
        "    \n",
        "elif ( (a > 5) and (b > 5) ):\n",
        "    print('Both the numbers are greater than 5')\n",
        "    \n",
        "else:\n",
        "    print('None of them is True')"
      ],
      "execution_count": null,
      "outputs": []
    },
    {
      "cell_type": "markdown",
      "metadata": {
        "id": "5MKz8yyX0A98"
      },
      "source": [
        "#### Problem 1 : Take an input from a user in variable x and print \"Even\" if the number is divisible by 2, otherwise print \"Odd\".\n",
        "\n",
        "---"
      ]
    },
    {
      "cell_type": "code",
      "metadata": {
        "id": "3NrAps7b0A-C"
      },
      "source": [
        "# take the input from the user by using the input function\n",
        "x = input()\n",
        "\n",
        "# by default the type is string, so we need to convert the type first\n",
        "x = int(x)\n",
        "\n",
        "if(x%2 == 0):\n",
        "    print(\"Even\")\n",
        "else:\n",
        "    print(\"Odd\")"
      ],
      "execution_count": null,
      "outputs": []
    },
    {
      "cell_type": "markdown",
      "metadata": {
        "id": "bh6THx4G0A-P"
      },
      "source": [
        "#### Problem 2 : Take input from the user in variable y and print \"`Grade A`\" if y is greater than 90, \"`Grade B`\" if y is greater than 60 but less than or equal to 90 and \"`Grade D`\" Otherwise.\n",
        "\n",
        "---"
      ]
    },
    {
      "cell_type": "code",
      "metadata": {
        "id": "_5NJRM1Q0A-S"
      },
      "source": [
        "# take the input from the user by using the input function\n",
        "y = input()\n",
        "\n",
        "# by default the type is string, so we need to convert the type first\n",
        "y = int(y)\n",
        "\n",
        "if  (y > 90):\n",
        "    print(\"Grade A\")\n",
        "\n",
        "elif(y > 60):\n",
        "    print(\"Grade B\")\n",
        "\n",
        "else:\n",
        "    print(\"Grade D\")"
      ],
      "execution_count": null,
      "outputs": []
    }
  ]
}