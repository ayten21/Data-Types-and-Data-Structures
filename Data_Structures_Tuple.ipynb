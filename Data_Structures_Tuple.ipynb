{
  "cells": [
    {
      "cell_type": "markdown",
      "metadata": {
        "id": "view-in-github",
        "colab_type": "text"
      },
      "source": [
        "<a href=\"https://colab.research.google.com/github/ayten21/Explore-Python/blob/main/Data_Structures_Tuple.ipynb\" target=\"_parent\"><img src=\"https://colab.research.google.com/assets/colab-badge.svg\" alt=\"Open In Colab\"/></a>"
      ]
    },
    {
      "cell_type": "markdown",
      "metadata": {
        "id": "SZP_hBkt5_WK"
      },
      "source": [
        "---\n",
        "\n",
        "## Data Structures - Tuple \n",
        "\n",
        "\n",
        "\n",
        "\n",
        "* We generally use tuple for heterogeneous (different) datatypes and list for homogeneous (similar) datatypes.\n",
        "* Tuples are immutable, iterating through tuple is faster than with list. \n",
        "* Tuples are ordered as lists (the order that you wrote)\n",
        "* Tuples that contain immutable elements can be used as a key for a dictionary. With lists, this is not possible.\n",
        "* If you have data that doesn't change, implementing it as tuple will guarantee that it remains write-protected.\n",
        "\n",
        "\n",
        "---"
      ]
    },
    {
      "cell_type": "markdown",
      "metadata": {
        "id": "y2pojlii5_WL"
      },
      "source": [
        "\n",
        "\n",
        "#### Defining the Tuple in Python\n",
        "---"
      ]
    },
    {
      "cell_type": "code",
      "execution_count": 1,
      "metadata": {
        "id": "sW0vPK1A5_WM"
      },
      "outputs": [],
      "source": [
        "my_tuple = ('A', 'B', 'C', 'D', 'D', 'E', 1 , 'D')"
      ]
    },
    {
      "cell_type": "code",
      "source": [
        "my_tuple"
      ],
      "metadata": {
        "colab": {
          "base_uri": "https://localhost:8080/"
        },
        "id": "EDLvgvMb43eG",
        "outputId": "7c8bf05a-5c11-4a33-d782-7e6cfe4a215b"
      },
      "execution_count": 2,
      "outputs": [
        {
          "output_type": "execute_result",
          "data": {
            "text/plain": [
              "('A', 'B', 'C', 'D', 'D', 'E', 1, 'D')"
            ]
          },
          "metadata": {},
          "execution_count": 2
        }
      ]
    },
    {
      "cell_type": "markdown",
      "metadata": {
        "id": "OcsJCQrn5_WM"
      },
      "source": [
        "#### Access element at any Index\n",
        "\n",
        "---"
      ]
    },
    {
      "cell_type": "code",
      "execution_count": 3,
      "metadata": {
        "id": "ozRKSiRu5_WN",
        "outputId": "2edb1c29-ece1-4343-a2ee-993d71071b0a",
        "colab": {
          "base_uri": "https://localhost:8080/",
          "height": 35
        }
      },
      "outputs": [
        {
          "output_type": "execute_result",
          "data": {
            "text/plain": [
              "'C'"
            ],
            "application/vnd.google.colaboratory.intrinsic+json": {
              "type": "string"
            }
          },
          "metadata": {},
          "execution_count": 3
        }
      ],
      "source": [
        "my_tuple[2]"
      ]
    },
    {
      "cell_type": "markdown",
      "metadata": {
        "id": "vI_hRw_t5_WN"
      },
      "source": [
        "#### Find out the index of any element if present in Tuple\n",
        "\n",
        "---"
      ]
    },
    {
      "cell_type": "code",
      "execution_count": 4,
      "metadata": {
        "id": "4u01irku5_WO",
        "outputId": "2ab5d7e3-34d3-47d5-d69f-8c4faea0e343",
        "colab": {
          "base_uri": "https://localhost:8080/"
        }
      },
      "outputs": [
        {
          "output_type": "execute_result",
          "data": {
            "text/plain": [
              "5"
            ]
          },
          "metadata": {},
          "execution_count": 4
        }
      ],
      "source": [
        "my_tuple.index('E')"
      ]
    },
    {
      "cell_type": "markdown",
      "metadata": {
        "id": "jy-iaFQU5_WO"
      },
      "source": [
        "#### Count of an element in a tuple\n",
        "\n",
        "---"
      ]
    },
    {
      "cell_type": "code",
      "execution_count": 5,
      "metadata": {
        "id": "dNg929WK5_WP",
        "outputId": "0396dd8b-639d-421d-f417-829d96e081d4",
        "colab": {
          "base_uri": "https://localhost:8080/"
        }
      },
      "outputs": [
        {
          "output_type": "execute_result",
          "data": {
            "text/plain": [
              "3"
            ]
          },
          "metadata": {},
          "execution_count": 5
        }
      ],
      "source": [
        "my_tuple.count('D')"
      ]
    },
    {
      "cell_type": "markdown",
      "metadata": {
        "id": "uSZVBjK55_WP"
      },
      "source": [
        "#### Iterate through the elements of the Tuple\n",
        "\n",
        "---"
      ]
    },
    {
      "cell_type": "code",
      "execution_count": 6,
      "metadata": {
        "id": "DghUBUYI5_WQ",
        "outputId": "64f9ef4e-b43a-4411-d70f-feadbea8b129",
        "colab": {
          "base_uri": "https://localhost:8080/"
        }
      },
      "outputs": [
        {
          "output_type": "stream",
          "name": "stdout",
          "text": [
            "A\n",
            "B\n",
            "C\n",
            "D\n",
            "D\n",
            "E\n",
            "1\n",
            "D\n"
          ]
        }
      ],
      "source": [
        "for element in my_tuple:\n",
        "    print(element)"
      ]
    },
    {
      "cell_type": "markdown",
      "metadata": {
        "id": "WDuzn3lp5_WR"
      },
      "source": [
        "#### Slicing of a tuple\n",
        "\n",
        "---"
      ]
    },
    {
      "cell_type": "code",
      "execution_count": 7,
      "metadata": {
        "id": "GViZYEVD5_WR",
        "outputId": "18d61b55-90f7-4a7a-a78d-880e41aa4f16",
        "colab": {
          "base_uri": "https://localhost:8080/"
        }
      },
      "outputs": [
        {
          "output_type": "execute_result",
          "data": {
            "text/plain": [
              "('A', 'B', 'C', 'D', 'D', 'E', 1, 'D')"
            ]
          },
          "metadata": {},
          "execution_count": 7
        }
      ],
      "source": [
        "# tuple\n",
        "my_tuple"
      ]
    },
    {
      "cell_type": "code",
      "execution_count": 8,
      "metadata": {
        "id": "qBhr01sj5_WS",
        "outputId": "8ac05b0f-cfb5-4df9-ec42-22fea72fecec",
        "colab": {
          "base_uri": "https://localhost:8080/"
        }
      },
      "outputs": [
        {
          "output_type": "execute_result",
          "data": {
            "text/plain": [
              "('A', 'B', 'C')"
            ]
          },
          "metadata": {},
          "execution_count": 8
        }
      ],
      "source": [
        "# first three elements\n",
        "my_tuple[:3]"
      ]
    },
    {
      "cell_type": "code",
      "execution_count": 9,
      "metadata": {
        "id": "2iQg9TS55_WS",
        "outputId": "0366a09b-ecab-4dab-b021-fa6b6d89a6c1",
        "colab": {
          "base_uri": "https://localhost:8080/"
        }
      },
      "outputs": [
        {
          "output_type": "execute_result",
          "data": {
            "text/plain": [
              "('D', 'D')"
            ]
          },
          "metadata": {},
          "execution_count": 9
        }
      ],
      "source": [
        "# define the start and end point to slice\n",
        "my_tuple[3:5]"
      ]
    },
    {
      "cell_type": "code",
      "execution_count": 10,
      "metadata": {
        "id": "t5xTbuhK5_WV",
        "outputId": "54f0b0d1-1b13-4f32-e773-5567f9b91e39",
        "colab": {
          "base_uri": "https://localhost:8080/"
        }
      },
      "outputs": [
        {
          "output_type": "execute_result",
          "data": {
            "text/plain": [
              "2"
            ]
          },
          "metadata": {},
          "execution_count": 10
        }
      ],
      "source": [
        "# count method on a slice \n",
        "my_tuple[3:5].count('D')"
      ]
    },
    {
      "cell_type": "code",
      "execution_count": 11,
      "metadata": {
        "id": "H-UuBMBu5_WV",
        "outputId": "0c35c374-2e6d-4c50-e71e-79e7d2aedaf6",
        "colab": {
          "base_uri": "https://localhost:8080/"
        }
      },
      "outputs": [
        {
          "output_type": "execute_result",
          "data": {
            "text/plain": [
              "0"
            ]
          },
          "metadata": {},
          "execution_count": 11
        }
      ],
      "source": [
        "# index method on a slice\n",
        "my_tuple[1:4].index('B')"
      ]
    },
    {
      "cell_type": "markdown",
      "metadata": {
        "id": "GzOgkdwy5_WW"
      },
      "source": [
        "#### Tuples are immutable\n",
        "\n",
        "- We cannot edit/update or delete elements from the tuple.\n",
        "\n",
        "---"
      ]
    },
    {
      "cell_type": "code",
      "execution_count": 12,
      "metadata": {
        "id": "P9S0HJPt5_WW",
        "outputId": "99d5af0f-f5fc-43cc-bd5d-e42d7eaca940",
        "colab": {
          "base_uri": "https://localhost:8080/"
        }
      },
      "outputs": [
        {
          "output_type": "execute_result",
          "data": {
            "text/plain": [
              "('A', 'B', 'C', 'D', 'D', 'E', 1, 'D')"
            ]
          },
          "metadata": {},
          "execution_count": 12
        }
      ],
      "source": [
        "my_tuple"
      ]
    },
    {
      "cell_type": "code",
      "execution_count": 13,
      "metadata": {
        "id": "xSGUedr95_WX",
        "outputId": "0f21c7a7-c2c3-4b5f-9d9d-1f9c274e4a5b",
        "colab": {
          "base_uri": "https://localhost:8080/",
          "height": 165
        }
      },
      "outputs": [
        {
          "output_type": "error",
          "ename": "TypeError",
          "evalue": "ignored",
          "traceback": [
            "\u001b[0;31m---------------------------------------------------------------------------\u001b[0m",
            "\u001b[0;31mTypeError\u001b[0m                                 Traceback (most recent call last)",
            "\u001b[0;32m<ipython-input-13-301212b7d049>\u001b[0m in \u001b[0;36m<module>\u001b[0;34m()\u001b[0m\n\u001b[0;32m----> 1\u001b[0;31m \u001b[0mmy_tuple\u001b[0m\u001b[0;34m[\u001b[0m\u001b[0;36m2\u001b[0m\u001b[0;34m]\u001b[0m \u001b[0;34m=\u001b[0m \u001b[0;34m'D'\u001b[0m\u001b[0;34m\u001b[0m\u001b[0;34m\u001b[0m\u001b[0m\n\u001b[0m",
            "\u001b[0;31mTypeError\u001b[0m: 'tuple' object does not support item assignment"
          ]
        }
      ],
      "source": [
        "my_tuple[2] = 'D'"
      ]
    },
    {
      "cell_type": "code",
      "execution_count": 14,
      "metadata": {
        "id": "tVnQHqTS5_WY",
        "outputId": "2968fe3d-035b-447c-dd55-d7ccf9461c1e",
        "colab": {
          "base_uri": "https://localhost:8080/",
          "height": 165
        }
      },
      "outputs": [
        {
          "output_type": "error",
          "ename": "TypeError",
          "evalue": "ignored",
          "traceback": [
            "\u001b[0;31m---------------------------------------------------------------------------\u001b[0m",
            "\u001b[0;31mTypeError\u001b[0m                                 Traceback (most recent call last)",
            "\u001b[0;32m<ipython-input-14-ca3904289ce8>\u001b[0m in \u001b[0;36m<module>\u001b[0;34m()\u001b[0m\n\u001b[0;32m----> 1\u001b[0;31m \u001b[0;32mdel\u001b[0m \u001b[0mmy_tuple\u001b[0m\u001b[0;34m[\u001b[0m\u001b[0;36m0\u001b[0m\u001b[0;34m]\u001b[0m\u001b[0;34m\u001b[0m\u001b[0;34m\u001b[0m\u001b[0m\n\u001b[0m",
            "\u001b[0;31mTypeError\u001b[0m: 'tuple' object doesn't support item deletion"
          ]
        }
      ],
      "source": [
        "del my_tuple[0]"
      ]
    }
  ],
  "metadata": {
    "kernelspec": {
      "display_name": "Python 3",
      "language": "python",
      "name": "python3"
    },
    "language_info": {
      "codemirror_mode": {
        "name": "ipython",
        "version": 3
      },
      "file_extension": ".py",
      "mimetype": "text/x-python",
      "name": "python",
      "nbconvert_exporter": "python",
      "pygments_lexer": "ipython3",
      "version": "3.7.3"
    },
    "colab": {
      "name": "Data_Structures_Tuple.ipynb",
      "provenance": [],
      "collapsed_sections": [],
      "include_colab_link": true
    }
  },
  "nbformat": 4,
  "nbformat_minor": 0
}